{
  "cells": [
    {
      "cell_type": "markdown",
      "metadata": {
        "id": "view-in-github",
        "colab_type": "text"
      },
      "source": [
        "<a href=\"https://colab.research.google.com/github/mondragonsi/Colab-DataAnalysis-Politics/blob/main/maiores_gastadores_por_partido.ipynb\" target=\"_parent\"><img src=\"https://colab.research.google.com/assets/colab-badge.svg\" alt=\"Open In Colab\"/></a>"
      ]
    },
    {
      "cell_type": "code",
      "execution_count": 1,
      "metadata": {
        "colab": {
          "base_uri": "https://localhost:8080/"
        },
        "id": "Th2on2p0Ritw",
        "outputId": "f9780737-1963-4764-a72a-9f043f63908b"
      },
      "outputs": [
        {
          "output_type": "stream",
          "name": "stderr",
          "text": [
            "<ipython-input-1-75c95100a0ac>:7: DtypeWarning: Columns (27) have mixed types. Specify dtype option on import or set low_memory=False.\n",
            "  politics_df = pd.read_csv(url, compression='zip', encoding='UTF-8', sep=';')\n"
          ]
        }
      ],
      "source": [
        "import pandas as pd\n",
        "import plotly.express as px\n",
        "import plotly.graph_objects as go\n",
        "\n",
        "# Download and load the dataset\n",
        "url = 'https://www.camara.leg.br/cotas/Ano-2023.csv.zip'\n",
        "politics_df = pd.read_csv(url, compression='zip', encoding='UTF-8', sep=';')"
      ]
    },
    {
      "cell_type": "code",
      "execution_count": null,
      "metadata": {
        "id": "Ioy6zcNaRitz",
        "outputId": "eb0e1e26-e767-47bf-cf94-b867a1c61ffe"
      },
      "outputs": [
        {
          "data": {
            "text/html": [
              "<div>\n",
              "<style scoped>\n",
              "    .dataframe tbody tr th:only-of-type {\n",
              "        vertical-align: middle;\n",
              "    }\n",
              "\n",
              "    .dataframe tbody tr th {\n",
              "        vertical-align: top;\n",
              "    }\n",
              "\n",
              "    .dataframe thead th {\n",
              "        text-align: right;\n",
              "    }\n",
              "</style>\n",
              "<table border=\"1\" class=\"dataframe\">\n",
              "  <thead>\n",
              "    <tr style=\"text-align: right;\">\n",
              "      <th></th>\n",
              "      <th>txNomeParlamentar</th>\n",
              "      <th>cpf</th>\n",
              "      <th>ideCadastro</th>\n",
              "      <th>nuCarteiraParlamentar</th>\n",
              "      <th>nuLegislatura</th>\n",
              "      <th>sgUF</th>\n",
              "      <th>sgPartido</th>\n",
              "      <th>codLegislatura</th>\n",
              "      <th>numSubCota</th>\n",
              "      <th>txtDescricao</th>\n",
              "      <th>...</th>\n",
              "      <th>numParcela</th>\n",
              "      <th>txtPassageiro</th>\n",
              "      <th>txtTrecho</th>\n",
              "      <th>numLote</th>\n",
              "      <th>numRessarcimento</th>\n",
              "      <th>datPagamentoRestituicao</th>\n",
              "      <th>vlrRestituicao</th>\n",
              "      <th>nuDeputadoId</th>\n",
              "      <th>ideDocumento</th>\n",
              "      <th>urlDocumento</th>\n",
              "    </tr>\n",
              "  </thead>\n",
              "  <tbody>\n",
              "    <tr>\n",
              "      <th>0</th>\n",
              "      <td>LID.GOV-CD</td>\n",
              "      <td>NaN</td>\n",
              "      <td>NaN</td>\n",
              "      <td>NaN</td>\n",
              "      <td>2023</td>\n",
              "      <td>NaN</td>\n",
              "      <td>NaN</td>\n",
              "      <td>57</td>\n",
              "      <td>1</td>\n",
              "      <td>MANUTENÇÃO DE ESCRITÓRIO DE APOIO À ATIVIDADE ...</td>\n",
              "      <td>...</td>\n",
              "      <td>0</td>\n",
              "      <td>NaN</td>\n",
              "      <td>NaN</td>\n",
              "      <td>1911524</td>\n",
              "      <td>NaN</td>\n",
              "      <td>NaN</td>\n",
              "      <td>NaN</td>\n",
              "      <td>2812</td>\n",
              "      <td>7503781</td>\n",
              "      <td>https://www.camara.leg.br/cota-parlamentar/doc...</td>\n",
              "    </tr>\n",
              "    <tr>\n",
              "      <th>1</th>\n",
              "      <td>LID.GOV-CD</td>\n",
              "      <td>NaN</td>\n",
              "      <td>NaN</td>\n",
              "      <td>NaN</td>\n",
              "      <td>2023</td>\n",
              "      <td>NaN</td>\n",
              "      <td>NaN</td>\n",
              "      <td>57</td>\n",
              "      <td>1</td>\n",
              "      <td>MANUTENÇÃO DE ESCRITÓRIO DE APOIO À ATIVIDADE ...</td>\n",
              "      <td>...</td>\n",
              "      <td>0</td>\n",
              "      <td>NaN</td>\n",
              "      <td>NaN</td>\n",
              "      <td>1948548</td>\n",
              "      <td>NaN</td>\n",
              "      <td>NaN</td>\n",
              "      <td>NaN</td>\n",
              "      <td>2812</td>\n",
              "      <td>7570656</td>\n",
              "      <td>https://www.camara.leg.br/cota-parlamentar/doc...</td>\n",
              "    </tr>\n",
              "    <tr>\n",
              "      <th>2</th>\n",
              "      <td>LID.GOV-CD</td>\n",
              "      <td>NaN</td>\n",
              "      <td>NaN</td>\n",
              "      <td>NaN</td>\n",
              "      <td>2023</td>\n",
              "      <td>NaN</td>\n",
              "      <td>NaN</td>\n",
              "      <td>57</td>\n",
              "      <td>1</td>\n",
              "      <td>MANUTENÇÃO DE ESCRITÓRIO DE APOIO À ATIVIDADE ...</td>\n",
              "      <td>...</td>\n",
              "      <td>0</td>\n",
              "      <td>NaN</td>\n",
              "      <td>NaN</td>\n",
              "      <td>1954294</td>\n",
              "      <td>NaN</td>\n",
              "      <td>NaN</td>\n",
              "      <td>NaN</td>\n",
              "      <td>2812</td>\n",
              "      <td>7580960</td>\n",
              "      <td>https://www.camara.leg.br/cota-parlamentar/doc...</td>\n",
              "    </tr>\n",
              "    <tr>\n",
              "      <th>3</th>\n",
              "      <td>LID.GOV-CD</td>\n",
              "      <td>NaN</td>\n",
              "      <td>NaN</td>\n",
              "      <td>NaN</td>\n",
              "      <td>2023</td>\n",
              "      <td>NaN</td>\n",
              "      <td>NaN</td>\n",
              "      <td>57</td>\n",
              "      <td>1</td>\n",
              "      <td>MANUTENÇÃO DE ESCRITÓRIO DE APOIO À ATIVIDADE ...</td>\n",
              "      <td>...</td>\n",
              "      <td>0</td>\n",
              "      <td>NaN</td>\n",
              "      <td>NaN</td>\n",
              "      <td>1963418</td>\n",
              "      <td>NaN</td>\n",
              "      <td>NaN</td>\n",
              "      <td>NaN</td>\n",
              "      <td>2812</td>\n",
              "      <td>7599444</td>\n",
              "      <td>https://www.camara.leg.br/cota-parlamentar/doc...</td>\n",
              "    </tr>\n",
              "    <tr>\n",
              "      <th>4</th>\n",
              "      <td>LID.GOV-CD</td>\n",
              "      <td>NaN</td>\n",
              "      <td>NaN</td>\n",
              "      <td>NaN</td>\n",
              "      <td>2023</td>\n",
              "      <td>NaN</td>\n",
              "      <td>NaN</td>\n",
              "      <td>57</td>\n",
              "      <td>1</td>\n",
              "      <td>MANUTENÇÃO DE ESCRITÓRIO DE APOIO À ATIVIDADE ...</td>\n",
              "      <td>...</td>\n",
              "      <td>0</td>\n",
              "      <td>NaN</td>\n",
              "      <td>NaN</td>\n",
              "      <td>1975208</td>\n",
              "      <td>NaN</td>\n",
              "      <td>NaN</td>\n",
              "      <td>NaN</td>\n",
              "      <td>2812</td>\n",
              "      <td>7620412</td>\n",
              "      <td>https://www.camara.leg.br/cota-parlamentar/doc...</td>\n",
              "    </tr>\n",
              "    <tr>\n",
              "      <th>...</th>\n",
              "      <td>...</td>\n",
              "      <td>...</td>\n",
              "      <td>...</td>\n",
              "      <td>...</td>\n",
              "      <td>...</td>\n",
              "      <td>...</td>\n",
              "      <td>...</td>\n",
              "      <td>...</td>\n",
              "      <td>...</td>\n",
              "      <td>...</td>\n",
              "      <td>...</td>\n",
              "      <td>...</td>\n",
              "      <td>...</td>\n",
              "      <td>...</td>\n",
              "      <td>...</td>\n",
              "      <td>...</td>\n",
              "      <td>...</td>\n",
              "      <td>...</td>\n",
              "      <td>...</td>\n",
              "      <td>...</td>\n",
              "      <td>...</td>\n",
              "    </tr>\n",
              "    <tr>\n",
              "      <th>223224</th>\n",
              "      <td>Dr Fabio Rueda</td>\n",
              "      <td>2.539052e+09</td>\n",
              "      <td>227401.0</td>\n",
              "      <td>569.0</td>\n",
              "      <td>2023</td>\n",
              "      <td>AC</td>\n",
              "      <td>UNIÃO</td>\n",
              "      <td>57</td>\n",
              "      <td>3</td>\n",
              "      <td>COMBUSTÍVEIS E LUBRIFICANTES.</td>\n",
              "      <td>...</td>\n",
              "      <td>0</td>\n",
              "      <td>NaN</td>\n",
              "      <td>NaN</td>\n",
              "      <td>2001898</td>\n",
              "      <td>NaN</td>\n",
              "      <td>NaN</td>\n",
              "      <td>NaN</td>\n",
              "      <td>3755</td>\n",
              "      <td>7667774</td>\n",
              "      <td>https://www.camara.leg.br/cota-parlamentar/not...</td>\n",
              "    </tr>\n",
              "    <tr>\n",
              "      <th>223225</th>\n",
              "      <td>Dr Fabio Rueda</td>\n",
              "      <td>2.539052e+09</td>\n",
              "      <td>227401.0</td>\n",
              "      <td>569.0</td>\n",
              "      <td>2023</td>\n",
              "      <td>AC</td>\n",
              "      <td>UNIÃO</td>\n",
              "      <td>57</td>\n",
              "      <td>3</td>\n",
              "      <td>COMBUSTÍVEIS E LUBRIFICANTES.</td>\n",
              "      <td>...</td>\n",
              "      <td>0</td>\n",
              "      <td>NaN</td>\n",
              "      <td>NaN</td>\n",
              "      <td>2001898</td>\n",
              "      <td>NaN</td>\n",
              "      <td>NaN</td>\n",
              "      <td>NaN</td>\n",
              "      <td>3755</td>\n",
              "      <td>7667748</td>\n",
              "      <td>https://www.camara.leg.br/cota-parlamentar/not...</td>\n",
              "    </tr>\n",
              "    <tr>\n",
              "      <th>223226</th>\n",
              "      <td>Dr Fabio Rueda</td>\n",
              "      <td>2.539052e+09</td>\n",
              "      <td>227401.0</td>\n",
              "      <td>569.0</td>\n",
              "      <td>2023</td>\n",
              "      <td>AC</td>\n",
              "      <td>UNIÃO</td>\n",
              "      <td>57</td>\n",
              "      <td>10</td>\n",
              "      <td>TELEFONIA</td>\n",
              "      <td>...</td>\n",
              "      <td>0</td>\n",
              "      <td>NaN</td>\n",
              "      <td>NaN</td>\n",
              "      <td>0</td>\n",
              "      <td>0.0</td>\n",
              "      <td>NaN</td>\n",
              "      <td>NaN</td>\n",
              "      <td>3755</td>\n",
              "      <td>0</td>\n",
              "      <td>NaN</td>\n",
              "    </tr>\n",
              "    <tr>\n",
              "      <th>223227</th>\n",
              "      <td>Dr Fabio Rueda</td>\n",
              "      <td>2.539052e+09</td>\n",
              "      <td>227401.0</td>\n",
              "      <td>569.0</td>\n",
              "      <td>2023</td>\n",
              "      <td>AC</td>\n",
              "      <td>UNIÃO</td>\n",
              "      <td>57</td>\n",
              "      <td>998</td>\n",
              "      <td>PASSAGEM AÉREA - SIGEPA</td>\n",
              "      <td>...</td>\n",
              "      <td>0</td>\n",
              "      <td>FABIO GONCALVES DE RUEDA</td>\n",
              "      <td>BSB/GRU/REC</td>\n",
              "      <td>0</td>\n",
              "      <td>0.0</td>\n",
              "      <td>NaN</td>\n",
              "      <td>NaN</td>\n",
              "      <td>3755</td>\n",
              "      <td>218349</td>\n",
              "      <td>NaN</td>\n",
              "    </tr>\n",
              "    <tr>\n",
              "      <th>223228</th>\n",
              "      <td>Douglas Viegas</td>\n",
              "      <td>2.551906e+10</td>\n",
              "      <td>227433.0</td>\n",
              "      <td>571.0</td>\n",
              "      <td>2023</td>\n",
              "      <td>SP</td>\n",
              "      <td>UNIÃO</td>\n",
              "      <td>57</td>\n",
              "      <td>10</td>\n",
              "      <td>TELEFONIA</td>\n",
              "      <td>...</td>\n",
              "      <td>0</td>\n",
              "      <td>NaN</td>\n",
              "      <td>NaN</td>\n",
              "      <td>0</td>\n",
              "      <td>0.0</td>\n",
              "      <td>NaN</td>\n",
              "      <td>NaN</td>\n",
              "      <td>3756</td>\n",
              "      <td>0</td>\n",
              "      <td>NaN</td>\n",
              "    </tr>\n",
              "  </tbody>\n",
              "</table>\n",
              "<p>223229 rows × 32 columns</p>\n",
              "</div>"
            ],
            "text/plain": [
              "       txNomeParlamentar           cpf  ideCadastro  nuCarteiraParlamentar  \\\n",
              "0             LID.GOV-CD           NaN          NaN                    NaN   \n",
              "1             LID.GOV-CD           NaN          NaN                    NaN   \n",
              "2             LID.GOV-CD           NaN          NaN                    NaN   \n",
              "3             LID.GOV-CD           NaN          NaN                    NaN   \n",
              "4             LID.GOV-CD           NaN          NaN                    NaN   \n",
              "...                  ...           ...          ...                    ...   \n",
              "223224    Dr Fabio Rueda  2.539052e+09     227401.0                  569.0   \n",
              "223225    Dr Fabio Rueda  2.539052e+09     227401.0                  569.0   \n",
              "223226    Dr Fabio Rueda  2.539052e+09     227401.0                  569.0   \n",
              "223227    Dr Fabio Rueda  2.539052e+09     227401.0                  569.0   \n",
              "223228    Douglas Viegas  2.551906e+10     227433.0                  571.0   \n",
              "\n",
              "        nuLegislatura sgUF sgPartido  codLegislatura  numSubCota  \\\n",
              "0                2023  NaN       NaN              57           1   \n",
              "1                2023  NaN       NaN              57           1   \n",
              "2                2023  NaN       NaN              57           1   \n",
              "3                2023  NaN       NaN              57           1   \n",
              "4                2023  NaN       NaN              57           1   \n",
              "...               ...  ...       ...             ...         ...   \n",
              "223224           2023   AC     UNIÃO              57           3   \n",
              "223225           2023   AC     UNIÃO              57           3   \n",
              "223226           2023   AC     UNIÃO              57          10   \n",
              "223227           2023   AC     UNIÃO              57         998   \n",
              "223228           2023   SP     UNIÃO              57          10   \n",
              "\n",
              "                                             txtDescricao  ...  numParcela  \\\n",
              "0       MANUTENÇÃO DE ESCRITÓRIO DE APOIO À ATIVIDADE ...  ...           0   \n",
              "1       MANUTENÇÃO DE ESCRITÓRIO DE APOIO À ATIVIDADE ...  ...           0   \n",
              "2       MANUTENÇÃO DE ESCRITÓRIO DE APOIO À ATIVIDADE ...  ...           0   \n",
              "3       MANUTENÇÃO DE ESCRITÓRIO DE APOIO À ATIVIDADE ...  ...           0   \n",
              "4       MANUTENÇÃO DE ESCRITÓRIO DE APOIO À ATIVIDADE ...  ...           0   \n",
              "...                                                   ...  ...         ...   \n",
              "223224                      COMBUSTÍVEIS E LUBRIFICANTES.  ...           0   \n",
              "223225                      COMBUSTÍVEIS E LUBRIFICANTES.  ...           0   \n",
              "223226                                          TELEFONIA  ...           0   \n",
              "223227                            PASSAGEM AÉREA - SIGEPA  ...           0   \n",
              "223228                                          TELEFONIA  ...           0   \n",
              "\n",
              "                   txtPassageiro    txtTrecho  numLote numRessarcimento  \\\n",
              "0                            NaN          NaN  1911524              NaN   \n",
              "1                            NaN          NaN  1948548              NaN   \n",
              "2                            NaN          NaN  1954294              NaN   \n",
              "3                            NaN          NaN  1963418              NaN   \n",
              "4                            NaN          NaN  1975208              NaN   \n",
              "...                          ...          ...      ...              ...   \n",
              "223224                       NaN          NaN  2001898              NaN   \n",
              "223225                       NaN          NaN  2001898              NaN   \n",
              "223226                       NaN          NaN        0              0.0   \n",
              "223227  FABIO GONCALVES DE RUEDA  BSB/GRU/REC        0              0.0   \n",
              "223228                       NaN          NaN        0              0.0   \n",
              "\n",
              "        datPagamentoRestituicao vlrRestituicao  nuDeputadoId  ideDocumento  \\\n",
              "0                           NaN            NaN          2812       7503781   \n",
              "1                           NaN            NaN          2812       7570656   \n",
              "2                           NaN            NaN          2812       7580960   \n",
              "3                           NaN            NaN          2812       7599444   \n",
              "4                           NaN            NaN          2812       7620412   \n",
              "...                         ...            ...           ...           ...   \n",
              "223224                      NaN            NaN          3755       7667774   \n",
              "223225                      NaN            NaN          3755       7667748   \n",
              "223226                      NaN            NaN          3755             0   \n",
              "223227                      NaN            NaN          3755        218349   \n",
              "223228                      NaN            NaN          3756             0   \n",
              "\n",
              "                                             urlDocumento  \n",
              "0       https://www.camara.leg.br/cota-parlamentar/doc...  \n",
              "1       https://www.camara.leg.br/cota-parlamentar/doc...  \n",
              "2       https://www.camara.leg.br/cota-parlamentar/doc...  \n",
              "3       https://www.camara.leg.br/cota-parlamentar/doc...  \n",
              "4       https://www.camara.leg.br/cota-parlamentar/doc...  \n",
              "...                                                   ...  \n",
              "223224  https://www.camara.leg.br/cota-parlamentar/not...  \n",
              "223225  https://www.camara.leg.br/cota-parlamentar/not...  \n",
              "223226                                                NaN  \n",
              "223227                                                NaN  \n",
              "223228                                                NaN  \n",
              "\n",
              "[223229 rows x 32 columns]"
            ]
          },
          "execution_count": 47,
          "metadata": {},
          "output_type": "execute_result"
        }
      ],
      "source": [
        "politics_df"
      ]
    },
    {
      "cell_type": "code",
      "execution_count": null,
      "metadata": {
        "id": "Xnu_8oHLRitz"
      },
      "outputs": [],
      "source": [
        "# creates a new data frame with the columns: 'txNomeParlamentar', 'sgPartido', 'vlrDocumento', 'vlrRestituicao', 'vlrLiquido'\n",
        "\n",
        "gastos_2023_df = politics_df[['txNomeParlamentar', 'sgPartido', 'vlrDocumento', 'vlrRestituicao', 'vlrLiquido']]"
      ]
    },
    {
      "cell_type": "code",
      "execution_count": null,
      "metadata": {
        "id": "qB3cBswNRitz",
        "outputId": "f123e1ad-e3ef-4653-8350-7537857e85bd"
      },
      "outputs": [
        {
          "data": {
            "text/html": [
              "<div>\n",
              "<style scoped>\n",
              "    .dataframe tbody tr th:only-of-type {\n",
              "        vertical-align: middle;\n",
              "    }\n",
              "\n",
              "    .dataframe tbody tr th {\n",
              "        vertical-align: top;\n",
              "    }\n",
              "\n",
              "    .dataframe thead th {\n",
              "        text-align: right;\n",
              "    }\n",
              "</style>\n",
              "<table border=\"1\" class=\"dataframe\">\n",
              "  <thead>\n",
              "    <tr style=\"text-align: right;\">\n",
              "      <th></th>\n",
              "      <th>txNomeParlamentar</th>\n",
              "      <th>sgPartido</th>\n",
              "      <th>vlrDocumento</th>\n",
              "      <th>vlrRestituicao</th>\n",
              "      <th>vlrLiquido</th>\n",
              "    </tr>\n",
              "  </thead>\n",
              "  <tbody>\n",
              "    <tr>\n",
              "      <th>0</th>\n",
              "      <td>LID.GOV-CD</td>\n",
              "      <td>NaN</td>\n",
              "      <td>899.00</td>\n",
              "      <td>NaN</td>\n",
              "      <td>899.00</td>\n",
              "    </tr>\n",
              "    <tr>\n",
              "      <th>1</th>\n",
              "      <td>LID.GOV-CD</td>\n",
              "      <td>NaN</td>\n",
              "      <td>899.00</td>\n",
              "      <td>NaN</td>\n",
              "      <td>899.00</td>\n",
              "    </tr>\n",
              "    <tr>\n",
              "      <th>2</th>\n",
              "      <td>LID.GOV-CD</td>\n",
              "      <td>NaN</td>\n",
              "      <td>899.00</td>\n",
              "      <td>NaN</td>\n",
              "      <td>899.00</td>\n",
              "    </tr>\n",
              "    <tr>\n",
              "      <th>3</th>\n",
              "      <td>LID.GOV-CD</td>\n",
              "      <td>NaN</td>\n",
              "      <td>899.00</td>\n",
              "      <td>NaN</td>\n",
              "      <td>899.00</td>\n",
              "    </tr>\n",
              "    <tr>\n",
              "      <th>4</th>\n",
              "      <td>LID.GOV-CD</td>\n",
              "      <td>NaN</td>\n",
              "      <td>899.00</td>\n",
              "      <td>NaN</td>\n",
              "      <td>899.00</td>\n",
              "    </tr>\n",
              "    <tr>\n",
              "      <th>...</th>\n",
              "      <td>...</td>\n",
              "      <td>...</td>\n",
              "      <td>...</td>\n",
              "      <td>...</td>\n",
              "      <td>...</td>\n",
              "    </tr>\n",
              "    <tr>\n",
              "      <th>223224</th>\n",
              "      <td>Dr Fabio Rueda</td>\n",
              "      <td>UNIÃO</td>\n",
              "      <td>375.13</td>\n",
              "      <td>NaN</td>\n",
              "      <td>375.13</td>\n",
              "    </tr>\n",
              "    <tr>\n",
              "      <th>223225</th>\n",
              "      <td>Dr Fabio Rueda</td>\n",
              "      <td>UNIÃO</td>\n",
              "      <td>265.03</td>\n",
              "      <td>NaN</td>\n",
              "      <td>265.03</td>\n",
              "    </tr>\n",
              "    <tr>\n",
              "      <th>223226</th>\n",
              "      <td>Dr Fabio Rueda</td>\n",
              "      <td>UNIÃO</td>\n",
              "      <td>1.44</td>\n",
              "      <td>NaN</td>\n",
              "      <td>1.44</td>\n",
              "    </tr>\n",
              "    <tr>\n",
              "      <th>223227</th>\n",
              "      <td>Dr Fabio Rueda</td>\n",
              "      <td>UNIÃO</td>\n",
              "      <td>1367.51</td>\n",
              "      <td>NaN</td>\n",
              "      <td>1367.51</td>\n",
              "    </tr>\n",
              "    <tr>\n",
              "      <th>223228</th>\n",
              "      <td>Douglas Viegas</td>\n",
              "      <td>UNIÃO</td>\n",
              "      <td>0.51</td>\n",
              "      <td>NaN</td>\n",
              "      <td>0.51</td>\n",
              "    </tr>\n",
              "  </tbody>\n",
              "</table>\n",
              "<p>223229 rows × 5 columns</p>\n",
              "</div>"
            ],
            "text/plain": [
              "       txNomeParlamentar sgPartido  vlrDocumento  vlrRestituicao  vlrLiquido\n",
              "0             LID.GOV-CD       NaN        899.00             NaN      899.00\n",
              "1             LID.GOV-CD       NaN        899.00             NaN      899.00\n",
              "2             LID.GOV-CD       NaN        899.00             NaN      899.00\n",
              "3             LID.GOV-CD       NaN        899.00             NaN      899.00\n",
              "4             LID.GOV-CD       NaN        899.00             NaN      899.00\n",
              "...                  ...       ...           ...             ...         ...\n",
              "223224    Dr Fabio Rueda     UNIÃO        375.13             NaN      375.13\n",
              "223225    Dr Fabio Rueda     UNIÃO        265.03             NaN      265.03\n",
              "223226    Dr Fabio Rueda     UNIÃO          1.44             NaN        1.44\n",
              "223227    Dr Fabio Rueda     UNIÃO       1367.51             NaN     1367.51\n",
              "223228    Douglas Viegas     UNIÃO          0.51             NaN        0.51\n",
              "\n",
              "[223229 rows x 5 columns]"
            ]
          },
          "execution_count": 49,
          "metadata": {},
          "output_type": "execute_result"
        }
      ],
      "source": [
        "gastos_2023_df"
      ]
    },
    {
      "cell_type": "code",
      "execution_count": null,
      "metadata": {
        "id": "_yaEVt3tRit0",
        "outputId": "71107b1d-d1db-477d-bc01-71a2a6b4d8dd"
      },
      "outputs": [
        {
          "data": {
            "text/html": [
              "<div>\n",
              "<style scoped>\n",
              "    .dataframe tbody tr th:only-of-type {\n",
              "        vertical-align: middle;\n",
              "    }\n",
              "\n",
              "    .dataframe tbody tr th {\n",
              "        vertical-align: top;\n",
              "    }\n",
              "\n",
              "    .dataframe thead th {\n",
              "        text-align: right;\n",
              "    }\n",
              "</style>\n",
              "<table border=\"1\" class=\"dataframe\">\n",
              "  <thead>\n",
              "    <tr style=\"text-align: right;\">\n",
              "      <th></th>\n",
              "      <th>vlrDocumento</th>\n",
              "      <th>vlrRestituicao</th>\n",
              "      <th>vlrLiquido</th>\n",
              "    </tr>\n",
              "  </thead>\n",
              "  <tbody>\n",
              "    <tr>\n",
              "      <th>count</th>\n",
              "      <td>223229.000000</td>\n",
              "      <td>66.000000</td>\n",
              "      <td>223229.00000</td>\n",
              "    </tr>\n",
              "    <tr>\n",
              "      <th>mean</th>\n",
              "      <td>1060.154511</td>\n",
              "      <td>1743.296515</td>\n",
              "      <td>1053.66203</td>\n",
              "    </tr>\n",
              "    <tr>\n",
              "      <th>std</th>\n",
              "      <td>2972.051862</td>\n",
              "      <td>3556.684650</td>\n",
              "      <td>2951.29392</td>\n",
              "    </tr>\n",
              "    <tr>\n",
              "      <th>min</th>\n",
              "      <td>-6683.440000</td>\n",
              "      <td>8.820000</td>\n",
              "      <td>-6683.44000</td>\n",
              "    </tr>\n",
              "    <tr>\n",
              "      <th>25%</th>\n",
              "      <td>86.700000</td>\n",
              "      <td>46.170000</td>\n",
              "      <td>85.00000</td>\n",
              "    </tr>\n",
              "    <tr>\n",
              "      <th>50%</th>\n",
              "      <td>237.780000</td>\n",
              "      <td>303.810000</td>\n",
              "      <td>236.01000</td>\n",
              "    </tr>\n",
              "    <tr>\n",
              "      <th>75%</th>\n",
              "      <td>1079.210000</td>\n",
              "      <td>1998.157500</td>\n",
              "      <td>1070.99000</td>\n",
              "    </tr>\n",
              "    <tr>\n",
              "      <th>max</th>\n",
              "      <td>178433.000000</td>\n",
              "      <td>24439.890000</td>\n",
              "      <td>161800.00000</td>\n",
              "    </tr>\n",
              "  </tbody>\n",
              "</table>\n",
              "</div>"
            ],
            "text/plain": [
              "        vlrDocumento  vlrRestituicao    vlrLiquido\n",
              "count  223229.000000       66.000000  223229.00000\n",
              "mean     1060.154511     1743.296515    1053.66203\n",
              "std      2972.051862     3556.684650    2951.29392\n",
              "min     -6683.440000        8.820000   -6683.44000\n",
              "25%        86.700000       46.170000      85.00000\n",
              "50%       237.780000      303.810000     236.01000\n",
              "75%      1079.210000     1998.157500    1070.99000\n",
              "max    178433.000000    24439.890000  161800.00000"
            ]
          },
          "execution_count": 50,
          "metadata": {},
          "output_type": "execute_result"
        }
      ],
      "source": [
        "gastos_2023_df.describe()"
      ]
    },
    {
      "cell_type": "code",
      "execution_count": null,
      "metadata": {
        "id": "Y7ByS1O6Rit0",
        "outputId": "3ec0c50f-b6e2-43f4-e34f-2f1caa0ef11c"
      },
      "outputs": [
        {
          "data": {
            "text/plain": [
              "235207921.25"
            ]
          },
          "execution_count": 51,
          "metadata": {},
          "output_type": "execute_result"
        }
      ],
      "source": [
        "gastos_2023_df['vlrLiquido'].sum()"
      ]
    },
    {
      "cell_type": "code",
      "execution_count": null,
      "metadata": {
        "id": "UW2bmz9pRit0"
      },
      "outputs": [],
      "source": [
        "# create a new dataframe called totais_df and assing to it the totals of 'vlrLiquido' by 'sgPartido' and sort by 'vlrLiquido' in descending order\n",
        "\n",
        "totais_df = gastos_2023_df.groupby('sgPartido')['vlrLiquido'].sum().sort_values(ascending=False)\n"
      ]
    },
    {
      "cell_type": "code",
      "execution_count": null,
      "metadata": {
        "id": "J6CX30fVRit0",
        "outputId": "a9043b3c-086a-40bb-cfe0-53b4d16d5c9e"
      },
      "outputs": [
        {
          "data": {
            "text/plain": [
              "sgPartido\n",
              "PL               41250558.39\n",
              "PT               32395201.90\n",
              "UNIÃO            27900341.64\n",
              "PP               23582211.06\n",
              "PSD              20019702.47\n",
              "REPUBLICANOS     19882083.15\n",
              "MDB              19554354.31\n",
              "PDT               8925283.83\n",
              "PSB               7023162.32\n",
              "PSDB              6782507.60\n",
              "PODE              6668313.47\n",
              "PSOL              5158638.20\n",
              "PCdoB             3487655.43\n",
              "PV                2784921.21\n",
              "AVANTE            2560685.85\n",
              "PATRIOTA          2219490.70\n",
              "SOLIDARIEDADE     1853546.91\n",
              "CIDADANIA          826381.54\n",
              "NOVO               500747.93\n",
              "REDE               427758.18\n",
              "PSC                265985.66\n",
              "PTB                132036.43\n",
              "PROS                98252.17\n",
              "Name: vlrLiquido, dtype: float64"
            ]
          },
          "execution_count": 53,
          "metadata": {},
          "output_type": "execute_result"
        }
      ],
      "source": [
        "totais_df\n"
      ]
    },
    {
      "cell_type": "code",
      "execution_count": null,
      "metadata": {
        "id": "NoTblGGxRit1",
        "outputId": "96640c48-3369-4dac-ce0e-b0e9967e28ec"
      },
      "outputs": [
        {
          "data": {
            "application/vnd.plotly.v1+json": {
              "config": {
                "plotlyServerURL": "https://plot.ly"
              },
              "data": [
                {
                  "alignmentgroup": "True",
                  "hovertemplate": "sgPartido=%{x}<br>vlrLiquido=%{y}<extra></extra>",
                  "legendgroup": "",
                  "marker": {
                    "color": "#636efa",
                    "pattern": {
                      "shape": ""
                    }
                  },
                  "name": "",
                  "offsetgroup": "",
                  "orientation": "v",
                  "showlegend": false,
                  "textposition": "auto",
                  "type": "bar",
                  "x": [
                    "PL",
                    "PT",
                    "UNIÃO",
                    "PP",
                    "PSD",
                    "REPUBLICANOS",
                    "MDB",
                    "PDT",
                    "PSB",
                    "PSDB",
                    "PODE",
                    "PSOL",
                    "PCdoB",
                    "PV",
                    "AVANTE",
                    "PATRIOTA",
                    "SOLIDARIEDADE",
                    "CIDADANIA",
                    "NOVO",
                    "REDE",
                    "PSC",
                    "PTB",
                    "PROS"
                  ],
                  "xaxis": "x",
                  "y": [
                    41250558.39,
                    32395201.9,
                    27900341.64,
                    23582211.06,
                    20019702.47,
                    19882083.15,
                    19554354.31,
                    8925283.83,
                    7023162.32,
                    6782507.6,
                    6668313.47,
                    5158638.2,
                    3487655.43,
                    2784921.21,
                    2560685.85,
                    2219490.7,
                    1853546.91,
                    826381.54,
                    500747.93,
                    427758.18,
                    265985.66,
                    132036.43,
                    98252.17
                  ],
                  "yaxis": "y"
                }
              ],
              "layout": {
                "barmode": "relative",
                "legend": {
                  "tracegroupgap": 0
                },
                "template": {
                  "data": {
                    "bar": [
                      {
                        "error_x": {
                          "color": "#2a3f5f"
                        },
                        "error_y": {
                          "color": "#2a3f5f"
                        },
                        "marker": {
                          "line": {
                            "color": "#E5ECF6",
                            "width": 0.5
                          },
                          "pattern": {
                            "fillmode": "overlay",
                            "size": 10,
                            "solidity": 0.2
                          }
                        },
                        "type": "bar"
                      }
                    ],
                    "barpolar": [
                      {
                        "marker": {
                          "line": {
                            "color": "#E5ECF6",
                            "width": 0.5
                          },
                          "pattern": {
                            "fillmode": "overlay",
                            "size": 10,
                            "solidity": 0.2
                          }
                        },
                        "type": "barpolar"
                      }
                    ],
                    "carpet": [
                      {
                        "aaxis": {
                          "endlinecolor": "#2a3f5f",
                          "gridcolor": "white",
                          "linecolor": "white",
                          "minorgridcolor": "white",
                          "startlinecolor": "#2a3f5f"
                        },
                        "baxis": {
                          "endlinecolor": "#2a3f5f",
                          "gridcolor": "white",
                          "linecolor": "white",
                          "minorgridcolor": "white",
                          "startlinecolor": "#2a3f5f"
                        },
                        "type": "carpet"
                      }
                    ],
                    "choropleth": [
                      {
                        "colorbar": {
                          "outlinewidth": 0,
                          "ticks": ""
                        },
                        "type": "choropleth"
                      }
                    ],
                    "contour": [
                      {
                        "colorbar": {
                          "outlinewidth": 0,
                          "ticks": ""
                        },
                        "colorscale": [
                          [
                            0,
                            "#0d0887"
                          ],
                          [
                            0.1111111111111111,
                            "#46039f"
                          ],
                          [
                            0.2222222222222222,
                            "#7201a8"
                          ],
                          [
                            0.3333333333333333,
                            "#9c179e"
                          ],
                          [
                            0.4444444444444444,
                            "#bd3786"
                          ],
                          [
                            0.5555555555555556,
                            "#d8576b"
                          ],
                          [
                            0.6666666666666666,
                            "#ed7953"
                          ],
                          [
                            0.7777777777777778,
                            "#fb9f3a"
                          ],
                          [
                            0.8888888888888888,
                            "#fdca26"
                          ],
                          [
                            1,
                            "#f0f921"
                          ]
                        ],
                        "type": "contour"
                      }
                    ],
                    "contourcarpet": [
                      {
                        "colorbar": {
                          "outlinewidth": 0,
                          "ticks": ""
                        },
                        "type": "contourcarpet"
                      }
                    ],
                    "heatmap": [
                      {
                        "colorbar": {
                          "outlinewidth": 0,
                          "ticks": ""
                        },
                        "colorscale": [
                          [
                            0,
                            "#0d0887"
                          ],
                          [
                            0.1111111111111111,
                            "#46039f"
                          ],
                          [
                            0.2222222222222222,
                            "#7201a8"
                          ],
                          [
                            0.3333333333333333,
                            "#9c179e"
                          ],
                          [
                            0.4444444444444444,
                            "#bd3786"
                          ],
                          [
                            0.5555555555555556,
                            "#d8576b"
                          ],
                          [
                            0.6666666666666666,
                            "#ed7953"
                          ],
                          [
                            0.7777777777777778,
                            "#fb9f3a"
                          ],
                          [
                            0.8888888888888888,
                            "#fdca26"
                          ],
                          [
                            1,
                            "#f0f921"
                          ]
                        ],
                        "type": "heatmap"
                      }
                    ],
                    "heatmapgl": [
                      {
                        "colorbar": {
                          "outlinewidth": 0,
                          "ticks": ""
                        },
                        "colorscale": [
                          [
                            0,
                            "#0d0887"
                          ],
                          [
                            0.1111111111111111,
                            "#46039f"
                          ],
                          [
                            0.2222222222222222,
                            "#7201a8"
                          ],
                          [
                            0.3333333333333333,
                            "#9c179e"
                          ],
                          [
                            0.4444444444444444,
                            "#bd3786"
                          ],
                          [
                            0.5555555555555556,
                            "#d8576b"
                          ],
                          [
                            0.6666666666666666,
                            "#ed7953"
                          ],
                          [
                            0.7777777777777778,
                            "#fb9f3a"
                          ],
                          [
                            0.8888888888888888,
                            "#fdca26"
                          ],
                          [
                            1,
                            "#f0f921"
                          ]
                        ],
                        "type": "heatmapgl"
                      }
                    ],
                    "histogram": [
                      {
                        "marker": {
                          "pattern": {
                            "fillmode": "overlay",
                            "size": 10,
                            "solidity": 0.2
                          }
                        },
                        "type": "histogram"
                      }
                    ],
                    "histogram2d": [
                      {
                        "colorbar": {
                          "outlinewidth": 0,
                          "ticks": ""
                        },
                        "colorscale": [
                          [
                            0,
                            "#0d0887"
                          ],
                          [
                            0.1111111111111111,
                            "#46039f"
                          ],
                          [
                            0.2222222222222222,
                            "#7201a8"
                          ],
                          [
                            0.3333333333333333,
                            "#9c179e"
                          ],
                          [
                            0.4444444444444444,
                            "#bd3786"
                          ],
                          [
                            0.5555555555555556,
                            "#d8576b"
                          ],
                          [
                            0.6666666666666666,
                            "#ed7953"
                          ],
                          [
                            0.7777777777777778,
                            "#fb9f3a"
                          ],
                          [
                            0.8888888888888888,
                            "#fdca26"
                          ],
                          [
                            1,
                            "#f0f921"
                          ]
                        ],
                        "type": "histogram2d"
                      }
                    ],
                    "histogram2dcontour": [
                      {
                        "colorbar": {
                          "outlinewidth": 0,
                          "ticks": ""
                        },
                        "colorscale": [
                          [
                            0,
                            "#0d0887"
                          ],
                          [
                            0.1111111111111111,
                            "#46039f"
                          ],
                          [
                            0.2222222222222222,
                            "#7201a8"
                          ],
                          [
                            0.3333333333333333,
                            "#9c179e"
                          ],
                          [
                            0.4444444444444444,
                            "#bd3786"
                          ],
                          [
                            0.5555555555555556,
                            "#d8576b"
                          ],
                          [
                            0.6666666666666666,
                            "#ed7953"
                          ],
                          [
                            0.7777777777777778,
                            "#fb9f3a"
                          ],
                          [
                            0.8888888888888888,
                            "#fdca26"
                          ],
                          [
                            1,
                            "#f0f921"
                          ]
                        ],
                        "type": "histogram2dcontour"
                      }
                    ],
                    "mesh3d": [
                      {
                        "colorbar": {
                          "outlinewidth": 0,
                          "ticks": ""
                        },
                        "type": "mesh3d"
                      }
                    ],
                    "parcoords": [
                      {
                        "line": {
                          "colorbar": {
                            "outlinewidth": 0,
                            "ticks": ""
                          }
                        },
                        "type": "parcoords"
                      }
                    ],
                    "pie": [
                      {
                        "automargin": true,
                        "type": "pie"
                      }
                    ],
                    "scatter": [
                      {
                        "fillpattern": {
                          "fillmode": "overlay",
                          "size": 10,
                          "solidity": 0.2
                        },
                        "type": "scatter"
                      }
                    ],
                    "scatter3d": [
                      {
                        "line": {
                          "colorbar": {
                            "outlinewidth": 0,
                            "ticks": ""
                          }
                        },
                        "marker": {
                          "colorbar": {
                            "outlinewidth": 0,
                            "ticks": ""
                          }
                        },
                        "type": "scatter3d"
                      }
                    ],
                    "scattercarpet": [
                      {
                        "marker": {
                          "colorbar": {
                            "outlinewidth": 0,
                            "ticks": ""
                          }
                        },
                        "type": "scattercarpet"
                      }
                    ],
                    "scattergeo": [
                      {
                        "marker": {
                          "colorbar": {
                            "outlinewidth": 0,
                            "ticks": ""
                          }
                        },
                        "type": "scattergeo"
                      }
                    ],
                    "scattergl": [
                      {
                        "marker": {
                          "colorbar": {
                            "outlinewidth": 0,
                            "ticks": ""
                          }
                        },
                        "type": "scattergl"
                      }
                    ],
                    "scattermapbox": [
                      {
                        "marker": {
                          "colorbar": {
                            "outlinewidth": 0,
                            "ticks": ""
                          }
                        },
                        "type": "scattermapbox"
                      }
                    ],
                    "scatterpolar": [
                      {
                        "marker": {
                          "colorbar": {
                            "outlinewidth": 0,
                            "ticks": ""
                          }
                        },
                        "type": "scatterpolar"
                      }
                    ],
                    "scatterpolargl": [
                      {
                        "marker": {
                          "colorbar": {
                            "outlinewidth": 0,
                            "ticks": ""
                          }
                        },
                        "type": "scatterpolargl"
                      }
                    ],
                    "scatterternary": [
                      {
                        "marker": {
                          "colorbar": {
                            "outlinewidth": 0,
                            "ticks": ""
                          }
                        },
                        "type": "scatterternary"
                      }
                    ],
                    "surface": [
                      {
                        "colorbar": {
                          "outlinewidth": 0,
                          "ticks": ""
                        },
                        "colorscale": [
                          [
                            0,
                            "#0d0887"
                          ],
                          [
                            0.1111111111111111,
                            "#46039f"
                          ],
                          [
                            0.2222222222222222,
                            "#7201a8"
                          ],
                          [
                            0.3333333333333333,
                            "#9c179e"
                          ],
                          [
                            0.4444444444444444,
                            "#bd3786"
                          ],
                          [
                            0.5555555555555556,
                            "#d8576b"
                          ],
                          [
                            0.6666666666666666,
                            "#ed7953"
                          ],
                          [
                            0.7777777777777778,
                            "#fb9f3a"
                          ],
                          [
                            0.8888888888888888,
                            "#fdca26"
                          ],
                          [
                            1,
                            "#f0f921"
                          ]
                        ],
                        "type": "surface"
                      }
                    ],
                    "table": [
                      {
                        "cells": {
                          "fill": {
                            "color": "#EBF0F8"
                          },
                          "line": {
                            "color": "white"
                          }
                        },
                        "header": {
                          "fill": {
                            "color": "#C8D4E3"
                          },
                          "line": {
                            "color": "white"
                          }
                        },
                        "type": "table"
                      }
                    ]
                  },
                  "layout": {
                    "annotationdefaults": {
                      "arrowcolor": "#2a3f5f",
                      "arrowhead": 0,
                      "arrowwidth": 1
                    },
                    "autotypenumbers": "strict",
                    "coloraxis": {
                      "colorbar": {
                        "outlinewidth": 0,
                        "ticks": ""
                      }
                    },
                    "colorscale": {
                      "diverging": [
                        [
                          0,
                          "#8e0152"
                        ],
                        [
                          0.1,
                          "#c51b7d"
                        ],
                        [
                          0.2,
                          "#de77ae"
                        ],
                        [
                          0.3,
                          "#f1b6da"
                        ],
                        [
                          0.4,
                          "#fde0ef"
                        ],
                        [
                          0.5,
                          "#f7f7f7"
                        ],
                        [
                          0.6,
                          "#e6f5d0"
                        ],
                        [
                          0.7,
                          "#b8e186"
                        ],
                        [
                          0.8,
                          "#7fbc41"
                        ],
                        [
                          0.9,
                          "#4d9221"
                        ],
                        [
                          1,
                          "#276419"
                        ]
                      ],
                      "sequential": [
                        [
                          0,
                          "#0d0887"
                        ],
                        [
                          0.1111111111111111,
                          "#46039f"
                        ],
                        [
                          0.2222222222222222,
                          "#7201a8"
                        ],
                        [
                          0.3333333333333333,
                          "#9c179e"
                        ],
                        [
                          0.4444444444444444,
                          "#bd3786"
                        ],
                        [
                          0.5555555555555556,
                          "#d8576b"
                        ],
                        [
                          0.6666666666666666,
                          "#ed7953"
                        ],
                        [
                          0.7777777777777778,
                          "#fb9f3a"
                        ],
                        [
                          0.8888888888888888,
                          "#fdca26"
                        ],
                        [
                          1,
                          "#f0f921"
                        ]
                      ],
                      "sequentialminus": [
                        [
                          0,
                          "#0d0887"
                        ],
                        [
                          0.1111111111111111,
                          "#46039f"
                        ],
                        [
                          0.2222222222222222,
                          "#7201a8"
                        ],
                        [
                          0.3333333333333333,
                          "#9c179e"
                        ],
                        [
                          0.4444444444444444,
                          "#bd3786"
                        ],
                        [
                          0.5555555555555556,
                          "#d8576b"
                        ],
                        [
                          0.6666666666666666,
                          "#ed7953"
                        ],
                        [
                          0.7777777777777778,
                          "#fb9f3a"
                        ],
                        [
                          0.8888888888888888,
                          "#fdca26"
                        ],
                        [
                          1,
                          "#f0f921"
                        ]
                      ]
                    },
                    "colorway": [
                      "#636efa",
                      "#EF553B",
                      "#00cc96",
                      "#ab63fa",
                      "#FFA15A",
                      "#19d3f3",
                      "#FF6692",
                      "#B6E880",
                      "#FF97FF",
                      "#FECB52"
                    ],
                    "font": {
                      "color": "#2a3f5f"
                    },
                    "geo": {
                      "bgcolor": "white",
                      "lakecolor": "white",
                      "landcolor": "#E5ECF6",
                      "showlakes": true,
                      "showland": true,
                      "subunitcolor": "white"
                    },
                    "hoverlabel": {
                      "align": "left"
                    },
                    "hovermode": "closest",
                    "mapbox": {
                      "style": "light"
                    },
                    "paper_bgcolor": "white",
                    "plot_bgcolor": "#E5ECF6",
                    "polar": {
                      "angularaxis": {
                        "gridcolor": "white",
                        "linecolor": "white",
                        "ticks": ""
                      },
                      "bgcolor": "#E5ECF6",
                      "radialaxis": {
                        "gridcolor": "white",
                        "linecolor": "white",
                        "ticks": ""
                      }
                    },
                    "scene": {
                      "xaxis": {
                        "backgroundcolor": "#E5ECF6",
                        "gridcolor": "white",
                        "gridwidth": 2,
                        "linecolor": "white",
                        "showbackground": true,
                        "ticks": "",
                        "zerolinecolor": "white"
                      },
                      "yaxis": {
                        "backgroundcolor": "#E5ECF6",
                        "gridcolor": "white",
                        "gridwidth": 2,
                        "linecolor": "white",
                        "showbackground": true,
                        "ticks": "",
                        "zerolinecolor": "white"
                      },
                      "zaxis": {
                        "backgroundcolor": "#E5ECF6",
                        "gridcolor": "white",
                        "gridwidth": 2,
                        "linecolor": "white",
                        "showbackground": true,
                        "ticks": "",
                        "zerolinecolor": "white"
                      }
                    },
                    "shapedefaults": {
                      "line": {
                        "color": "#2a3f5f"
                      }
                    },
                    "ternary": {
                      "aaxis": {
                        "gridcolor": "white",
                        "linecolor": "white",
                        "ticks": ""
                      },
                      "baxis": {
                        "gridcolor": "white",
                        "linecolor": "white",
                        "ticks": ""
                      },
                      "bgcolor": "#E5ECF6",
                      "caxis": {
                        "gridcolor": "white",
                        "linecolor": "white",
                        "ticks": ""
                      }
                    },
                    "title": {
                      "x": 0.05
                    },
                    "xaxis": {
                      "automargin": true,
                      "gridcolor": "white",
                      "linecolor": "white",
                      "ticks": "",
                      "title": {
                        "standoff": 15
                      },
                      "zerolinecolor": "white",
                      "zerolinewidth": 2
                    },
                    "yaxis": {
                      "automargin": true,
                      "gridcolor": "white",
                      "linecolor": "white",
                      "ticks": "",
                      "title": {
                        "standoff": 15
                      },
                      "zerolinecolor": "white",
                      "zerolinewidth": 2
                    }
                  }
                },
                "title": {
                  "text": "Total de gastos por partido em Milhoes de Reais em 2023"
                },
                "xaxis": {
                  "anchor": "y",
                  "domain": [
                    0,
                    1
                  ],
                  "title": {
                    "text": "sgPartido"
                  }
                },
                "yaxis": {
                  "anchor": "x",
                  "domain": [
                    0,
                    1
                  ],
                  "title": {
                    "text": "vlrLiquido"
                  }
                }
              }
            }
          },
          "metadata": {},
          "output_type": "display_data"
        }
      ],
      "source": [
        "#using plotly express create a bar chart with the totals of 'vlrLiquido' by 'sgPartido'\n",
        "\n",
        "fig = px.bar(totais_df, x=totais_df.index, y='vlrLiquido', title='Total de gastos por partido em Milhoes de Reais em 2023')\n",
        "\n",
        "fig.show()"
      ]
    }
  ],
  "metadata": {
    "kernelspec": {
      "display_name": "Python 3",
      "language": "python",
      "name": "python3"
    },
    "language_info": {
      "codemirror_mode": {
        "name": "ipython",
        "version": 3
      },
      "file_extension": ".py",
      "mimetype": "text/x-python",
      "name": "python",
      "nbconvert_exporter": "python",
      "pygments_lexer": "ipython3",
      "version": "3.11.6"
    },
    "colab": {
      "provenance": [],
      "include_colab_link": true
    }
  },
  "nbformat": 4,
  "nbformat_minor": 0
}