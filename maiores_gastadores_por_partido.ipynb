{
  "cells": [
    {
      "cell_type": "markdown",
      "metadata": {
        "id": "view-in-github",
        "colab_type": "text"
      },
      "source": [
        "<a href=\"https://colab.research.google.com/github/mondragonsi/Colab-DataAnalysis-Politics/blob/main/maiores_gastadores_por_partido.ipynb\" target=\"_parent\"><img src=\"https://colab.research.google.com/assets/colab-badge.svg\" alt=\"Open In Colab\"/></a>"
      ]
    },
    {
      "cell_type": "code",
      "execution_count": null,
      "metadata": {
        "id": "21ZakbB3sNEZ",
        "outputId": "2a38bb99-1d26-433c-dc9b-91814acfde5e"
      },
      "outputs": [
        {
          "name": "stderr",
          "output_type": "stream",
          "text": [
            "/var/folders/ld/_1j1cjdx37sdvvgjtypnpnl00000gn/T/ipykernel_40276/873399626.py:7: DtypeWarning:\n",
            "\n",
            "Columns (27) have mixed types. Specify dtype option on import or set low_memory=False.\n",
            "\n"
          ]
        }
      ],
      "source": [
        "import pandas as pd\n",
        "import plotly.express as px\n",
        "import plotly.graph_objects as go\n",
        "\n",
        "# Download and load the dataset\n",
        "url = 'https://www.camara.leg.br/cotas/Ano-2023.csv.zip'\n",
        "politics_df = pd.read_csv(url, compression='zip', encoding='UTF-8', sep=';')"
      ]
    },
    {
      "cell_type": "code",
      "execution_count": null,
      "metadata": {
        "id": "bGvJNpqPsNEb",
        "outputId": "aa8c1a71-8874-4f4a-a29a-2c3c224ffc19"
      },
      "outputs": [
        {
          "data": {
            "text/html": [
              "<div>\n",
              "<style scoped>\n",
              "    .dataframe tbody tr th:only-of-type {\n",
              "        vertical-align: middle;\n",
              "    }\n",
              "\n",
              "    .dataframe tbody tr th {\n",
              "        vertical-align: top;\n",
              "    }\n",
              "\n",
              "    .dataframe thead th {\n",
              "        text-align: right;\n",
              "    }\n",
              "</style>\n",
              "<table border=\"1\" class=\"dataframe\">\n",
              "  <thead>\n",
              "    <tr style=\"text-align: right;\">\n",
              "      <th></th>\n",
              "      <th>txNomeParlamentar</th>\n",
              "      <th>cpf</th>\n",
              "      <th>ideCadastro</th>\n",
              "      <th>nuCarteiraParlamentar</th>\n",
              "      <th>nuLegislatura</th>\n",
              "      <th>sgUF</th>\n",
              "      <th>sgPartido</th>\n",
              "      <th>codLegislatura</th>\n",
              "      <th>numSubCota</th>\n",
              "      <th>txtDescricao</th>\n",
              "      <th>...</th>\n",
              "      <th>numParcela</th>\n",
              "      <th>txtPassageiro</th>\n",
              "      <th>txtTrecho</th>\n",
              "      <th>numLote</th>\n",
              "      <th>numRessarcimento</th>\n",
              "      <th>datPagamentoRestituicao</th>\n",
              "      <th>vlrRestituicao</th>\n",
              "      <th>nuDeputadoId</th>\n",
              "      <th>ideDocumento</th>\n",
              "      <th>urlDocumento</th>\n",
              "    </tr>\n",
              "  </thead>\n",
              "  <tbody>\n",
              "    <tr>\n",
              "      <th>0</th>\n",
              "      <td>LID.GOV-CD</td>\n",
              "      <td>NaN</td>\n",
              "      <td>NaN</td>\n",
              "      <td>NaN</td>\n",
              "      <td>2023</td>\n",
              "      <td>NaN</td>\n",
              "      <td>NaN</td>\n",
              "      <td>57</td>\n",
              "      <td>1</td>\n",
              "      <td>MANUTENÇÃO DE ESCRITÓRIO DE APOIO À ATIVIDADE ...</td>\n",
              "      <td>...</td>\n",
              "      <td>0</td>\n",
              "      <td>NaN</td>\n",
              "      <td>NaN</td>\n",
              "      <td>1911524</td>\n",
              "      <td>NaN</td>\n",
              "      <td>NaN</td>\n",
              "      <td>NaN</td>\n",
              "      <td>2812</td>\n",
              "      <td>7503781</td>\n",
              "      <td>https://www.camara.leg.br/cota-parlamentar/doc...</td>\n",
              "    </tr>\n",
              "    <tr>\n",
              "      <th>1</th>\n",
              "      <td>LID.GOV-CD</td>\n",
              "      <td>NaN</td>\n",
              "      <td>NaN</td>\n",
              "      <td>NaN</td>\n",
              "      <td>2023</td>\n",
              "      <td>NaN</td>\n",
              "      <td>NaN</td>\n",
              "      <td>57</td>\n",
              "      <td>1</td>\n",
              "      <td>MANUTENÇÃO DE ESCRITÓRIO DE APOIO À ATIVIDADE ...</td>\n",
              "      <td>...</td>\n",
              "      <td>0</td>\n",
              "      <td>NaN</td>\n",
              "      <td>NaN</td>\n",
              "      <td>1948548</td>\n",
              "      <td>NaN</td>\n",
              "      <td>NaN</td>\n",
              "      <td>NaN</td>\n",
              "      <td>2812</td>\n",
              "      <td>7570656</td>\n",
              "      <td>https://www.camara.leg.br/cota-parlamentar/doc...</td>\n",
              "    </tr>\n",
              "    <tr>\n",
              "      <th>2</th>\n",
              "      <td>LID.GOV-CD</td>\n",
              "      <td>NaN</td>\n",
              "      <td>NaN</td>\n",
              "      <td>NaN</td>\n",
              "      <td>2023</td>\n",
              "      <td>NaN</td>\n",
              "      <td>NaN</td>\n",
              "      <td>57</td>\n",
              "      <td>1</td>\n",
              "      <td>MANUTENÇÃO DE ESCRITÓRIO DE APOIO À ATIVIDADE ...</td>\n",
              "      <td>...</td>\n",
              "      <td>0</td>\n",
              "      <td>NaN</td>\n",
              "      <td>NaN</td>\n",
              "      <td>1954294</td>\n",
              "      <td>NaN</td>\n",
              "      <td>NaN</td>\n",
              "      <td>NaN</td>\n",
              "      <td>2812</td>\n",
              "      <td>7580960</td>\n",
              "      <td>https://www.camara.leg.br/cota-parlamentar/doc...</td>\n",
              "    </tr>\n",
              "    <tr>\n",
              "      <th>3</th>\n",
              "      <td>LID.GOV-CD</td>\n",
              "      <td>NaN</td>\n",
              "      <td>NaN</td>\n",
              "      <td>NaN</td>\n",
              "      <td>2023</td>\n",
              "      <td>NaN</td>\n",
              "      <td>NaN</td>\n",
              "      <td>57</td>\n",
              "      <td>1</td>\n",
              "      <td>MANUTENÇÃO DE ESCRITÓRIO DE APOIO À ATIVIDADE ...</td>\n",
              "      <td>...</td>\n",
              "      <td>0</td>\n",
              "      <td>NaN</td>\n",
              "      <td>NaN</td>\n",
              "      <td>1963418</td>\n",
              "      <td>NaN</td>\n",
              "      <td>NaN</td>\n",
              "      <td>NaN</td>\n",
              "      <td>2812</td>\n",
              "      <td>7599444</td>\n",
              "      <td>https://www.camara.leg.br/cota-parlamentar/doc...</td>\n",
              "    </tr>\n",
              "    <tr>\n",
              "      <th>4</th>\n",
              "      <td>LID.GOV-CD</td>\n",
              "      <td>NaN</td>\n",
              "      <td>NaN</td>\n",
              "      <td>NaN</td>\n",
              "      <td>2023</td>\n",
              "      <td>NaN</td>\n",
              "      <td>NaN</td>\n",
              "      <td>57</td>\n",
              "      <td>1</td>\n",
              "      <td>MANUTENÇÃO DE ESCRITÓRIO DE APOIO À ATIVIDADE ...</td>\n",
              "      <td>...</td>\n",
              "      <td>0</td>\n",
              "      <td>NaN</td>\n",
              "      <td>NaN</td>\n",
              "      <td>1975208</td>\n",
              "      <td>NaN</td>\n",
              "      <td>NaN</td>\n",
              "      <td>NaN</td>\n",
              "      <td>2812</td>\n",
              "      <td>7620412</td>\n",
              "      <td>https://www.camara.leg.br/cota-parlamentar/doc...</td>\n",
              "    </tr>\n",
              "    <tr>\n",
              "      <th>...</th>\n",
              "      <td>...</td>\n",
              "      <td>...</td>\n",
              "      <td>...</td>\n",
              "      <td>...</td>\n",
              "      <td>...</td>\n",
              "      <td>...</td>\n",
              "      <td>...</td>\n",
              "      <td>...</td>\n",
              "      <td>...</td>\n",
              "      <td>...</td>\n",
              "      <td>...</td>\n",
              "      <td>...</td>\n",
              "      <td>...</td>\n",
              "      <td>...</td>\n",
              "      <td>...</td>\n",
              "      <td>...</td>\n",
              "      <td>...</td>\n",
              "      <td>...</td>\n",
              "      <td>...</td>\n",
              "      <td>...</td>\n",
              "      <td>...</td>\n",
              "    </tr>\n",
              "    <tr>\n",
              "      <th>223224</th>\n",
              "      <td>Dr Fabio Rueda</td>\n",
              "      <td>2.539052e+09</td>\n",
              "      <td>227401.0</td>\n",
              "      <td>569.0</td>\n",
              "      <td>2023</td>\n",
              "      <td>AC</td>\n",
              "      <td>UNIÃO</td>\n",
              "      <td>57</td>\n",
              "      <td>3</td>\n",
              "      <td>COMBUSTÍVEIS E LUBRIFICANTES.</td>\n",
              "      <td>...</td>\n",
              "      <td>0</td>\n",
              "      <td>NaN</td>\n",
              "      <td>NaN</td>\n",
              "      <td>2001898</td>\n",
              "      <td>NaN</td>\n",
              "      <td>NaN</td>\n",
              "      <td>NaN</td>\n",
              "      <td>3755</td>\n",
              "      <td>7667774</td>\n",
              "      <td>https://www.camara.leg.br/cota-parlamentar/not...</td>\n",
              "    </tr>\n",
              "    <tr>\n",
              "      <th>223225</th>\n",
              "      <td>Dr Fabio Rueda</td>\n",
              "      <td>2.539052e+09</td>\n",
              "      <td>227401.0</td>\n",
              "      <td>569.0</td>\n",
              "      <td>2023</td>\n",
              "      <td>AC</td>\n",
              "      <td>UNIÃO</td>\n",
              "      <td>57</td>\n",
              "      <td>3</td>\n",
              "      <td>COMBUSTÍVEIS E LUBRIFICANTES.</td>\n",
              "      <td>...</td>\n",
              "      <td>0</td>\n",
              "      <td>NaN</td>\n",
              "      <td>NaN</td>\n",
              "      <td>2001898</td>\n",
              "      <td>NaN</td>\n",
              "      <td>NaN</td>\n",
              "      <td>NaN</td>\n",
              "      <td>3755</td>\n",
              "      <td>7667748</td>\n",
              "      <td>https://www.camara.leg.br/cota-parlamentar/not...</td>\n",
              "    </tr>\n",
              "    <tr>\n",
              "      <th>223226</th>\n",
              "      <td>Dr Fabio Rueda</td>\n",
              "      <td>2.539052e+09</td>\n",
              "      <td>227401.0</td>\n",
              "      <td>569.0</td>\n",
              "      <td>2023</td>\n",
              "      <td>AC</td>\n",
              "      <td>UNIÃO</td>\n",
              "      <td>57</td>\n",
              "      <td>10</td>\n",
              "      <td>TELEFONIA</td>\n",
              "      <td>...</td>\n",
              "      <td>0</td>\n",
              "      <td>NaN</td>\n",
              "      <td>NaN</td>\n",
              "      <td>0</td>\n",
              "      <td>0.0</td>\n",
              "      <td>NaN</td>\n",
              "      <td>NaN</td>\n",
              "      <td>3755</td>\n",
              "      <td>0</td>\n",
              "      <td>NaN</td>\n",
              "    </tr>\n",
              "    <tr>\n",
              "      <th>223227</th>\n",
              "      <td>Dr Fabio Rueda</td>\n",
              "      <td>2.539052e+09</td>\n",
              "      <td>227401.0</td>\n",
              "      <td>569.0</td>\n",
              "      <td>2023</td>\n",
              "      <td>AC</td>\n",
              "      <td>UNIÃO</td>\n",
              "      <td>57</td>\n",
              "      <td>998</td>\n",
              "      <td>PASSAGEM AÉREA - SIGEPA</td>\n",
              "      <td>...</td>\n",
              "      <td>0</td>\n",
              "      <td>FABIO GONCALVES DE RUEDA</td>\n",
              "      <td>BSB/GRU/REC</td>\n",
              "      <td>0</td>\n",
              "      <td>0.0</td>\n",
              "      <td>NaN</td>\n",
              "      <td>NaN</td>\n",
              "      <td>3755</td>\n",
              "      <td>218349</td>\n",
              "      <td>NaN</td>\n",
              "    </tr>\n",
              "    <tr>\n",
              "      <th>223228</th>\n",
              "      <td>Douglas Viegas</td>\n",
              "      <td>2.551906e+10</td>\n",
              "      <td>227433.0</td>\n",
              "      <td>571.0</td>\n",
              "      <td>2023</td>\n",
              "      <td>SP</td>\n",
              "      <td>UNIÃO</td>\n",
              "      <td>57</td>\n",
              "      <td>10</td>\n",
              "      <td>TELEFONIA</td>\n",
              "      <td>...</td>\n",
              "      <td>0</td>\n",
              "      <td>NaN</td>\n",
              "      <td>NaN</td>\n",
              "      <td>0</td>\n",
              "      <td>0.0</td>\n",
              "      <td>NaN</td>\n",
              "      <td>NaN</td>\n",
              "      <td>3756</td>\n",
              "      <td>0</td>\n",
              "      <td>NaN</td>\n",
              "    </tr>\n",
              "  </tbody>\n",
              "</table>\n",
              "<p>223229 rows × 32 columns</p>\n",
              "</div>"
            ],
            "text/plain": [
              "       txNomeParlamentar           cpf  ideCadastro  nuCarteiraParlamentar  \\\n",
              "0             LID.GOV-CD           NaN          NaN                    NaN   \n",
              "1             LID.GOV-CD           NaN          NaN                    NaN   \n",
              "2             LID.GOV-CD           NaN          NaN                    NaN   \n",
              "3             LID.GOV-CD           NaN          NaN                    NaN   \n",
              "4             LID.GOV-CD           NaN          NaN                    NaN   \n",
              "...                  ...           ...          ...                    ...   \n",
              "223224    Dr Fabio Rueda  2.539052e+09     227401.0                  569.0   \n",
              "223225    Dr Fabio Rueda  2.539052e+09     227401.0                  569.0   \n",
              "223226    Dr Fabio Rueda  2.539052e+09     227401.0                  569.0   \n",
              "223227    Dr Fabio Rueda  2.539052e+09     227401.0                  569.0   \n",
              "223228    Douglas Viegas  2.551906e+10     227433.0                  571.0   \n",
              "\n",
              "        nuLegislatura sgUF sgPartido  codLegislatura  numSubCota  \\\n",
              "0                2023  NaN       NaN              57           1   \n",
              "1                2023  NaN       NaN              57           1   \n",
              "2                2023  NaN       NaN              57           1   \n",
              "3                2023  NaN       NaN              57           1   \n",
              "4                2023  NaN       NaN              57           1   \n",
              "...               ...  ...       ...             ...         ...   \n",
              "223224           2023   AC     UNIÃO              57           3   \n",
              "223225           2023   AC     UNIÃO              57           3   \n",
              "223226           2023   AC     UNIÃO              57          10   \n",
              "223227           2023   AC     UNIÃO              57         998   \n",
              "223228           2023   SP     UNIÃO              57          10   \n",
              "\n",
              "                                             txtDescricao  ...  numParcela  \\\n",
              "0       MANUTENÇÃO DE ESCRITÓRIO DE APOIO À ATIVIDADE ...  ...           0   \n",
              "1       MANUTENÇÃO DE ESCRITÓRIO DE APOIO À ATIVIDADE ...  ...           0   \n",
              "2       MANUTENÇÃO DE ESCRITÓRIO DE APOIO À ATIVIDADE ...  ...           0   \n",
              "3       MANUTENÇÃO DE ESCRITÓRIO DE APOIO À ATIVIDADE ...  ...           0   \n",
              "4       MANUTENÇÃO DE ESCRITÓRIO DE APOIO À ATIVIDADE ...  ...           0   \n",
              "...                                                   ...  ...         ...   \n",
              "223224                      COMBUSTÍVEIS E LUBRIFICANTES.  ...           0   \n",
              "223225                      COMBUSTÍVEIS E LUBRIFICANTES.  ...           0   \n",
              "223226                                          TELEFONIA  ...           0   \n",
              "223227                            PASSAGEM AÉREA - SIGEPA  ...           0   \n",
              "223228                                          TELEFONIA  ...           0   \n",
              "\n",
              "                   txtPassageiro    txtTrecho  numLote numRessarcimento  \\\n",
              "0                            NaN          NaN  1911524              NaN   \n",
              "1                            NaN          NaN  1948548              NaN   \n",
              "2                            NaN          NaN  1954294              NaN   \n",
              "3                            NaN          NaN  1963418              NaN   \n",
              "4                            NaN          NaN  1975208              NaN   \n",
              "...                          ...          ...      ...              ...   \n",
              "223224                       NaN          NaN  2001898              NaN   \n",
              "223225                       NaN          NaN  2001898              NaN   \n",
              "223226                       NaN          NaN        0              0.0   \n",
              "223227  FABIO GONCALVES DE RUEDA  BSB/GRU/REC        0              0.0   \n",
              "223228                       NaN          NaN        0              0.0   \n",
              "\n",
              "        datPagamentoRestituicao vlrRestituicao  nuDeputadoId  ideDocumento  \\\n",
              "0                           NaN            NaN          2812       7503781   \n",
              "1                           NaN            NaN          2812       7570656   \n",
              "2                           NaN            NaN          2812       7580960   \n",
              "3                           NaN            NaN          2812       7599444   \n",
              "4                           NaN            NaN          2812       7620412   \n",
              "...                         ...            ...           ...           ...   \n",
              "223224                      NaN            NaN          3755       7667774   \n",
              "223225                      NaN            NaN          3755       7667748   \n",
              "223226                      NaN            NaN          3755             0   \n",
              "223227                      NaN            NaN          3755        218349   \n",
              "223228                      NaN            NaN          3756             0   \n",
              "\n",
              "                                             urlDocumento  \n",
              "0       https://www.camara.leg.br/cota-parlamentar/doc...  \n",
              "1       https://www.camara.leg.br/cota-parlamentar/doc...  \n",
              "2       https://www.camara.leg.br/cota-parlamentar/doc...  \n",
              "3       https://www.camara.leg.br/cota-parlamentar/doc...  \n",
              "4       https://www.camara.leg.br/cota-parlamentar/doc...  \n",
              "...                                                   ...  \n",
              "223224  https://www.camara.leg.br/cota-parlamentar/not...  \n",
              "223225  https://www.camara.leg.br/cota-parlamentar/not...  \n",
              "223226                                                NaN  \n",
              "223227                                                NaN  \n",
              "223228                                                NaN  \n",
              "\n",
              "[223229 rows x 32 columns]"
            ]
          },
          "execution_count": 231,
          "metadata": {},
          "output_type": "execute_result"
        }
      ],
      "source": [
        "politics_df"
      ]
    },
    {
      "cell_type": "code",
      "execution_count": null,
      "metadata": {
        "id": "qfBxuu0MsNEc",
        "outputId": "deb7162a-e7d1-4725-87ea-99e1a34b5f42"
      },
      "outputs": [
        {
          "data": {
            "text/plain": [
              "Index(['txNomeParlamentar', 'cpf', 'ideCadastro', 'nuCarteiraParlamentar',\n",
              "       'nuLegislatura', 'sgUF', 'sgPartido', 'codLegislatura', 'numSubCota',\n",
              "       'txtDescricao', 'numEspecificacaoSubCota', 'txtDescricaoEspecificacao',\n",
              "       'txtFornecedor', 'txtCNPJCPF', 'txtNumero', 'indTipoDocumento',\n",
              "       'datEmissao', 'vlrDocumento', 'vlrGlosa', 'vlrLiquido', 'numMes',\n",
              "       'numAno', 'numParcela', 'txtPassageiro', 'txtTrecho', 'numLote',\n",
              "       'numRessarcimento', 'datPagamentoRestituicao', 'vlrRestituicao',\n",
              "       'nuDeputadoId', 'ideDocumento', 'urlDocumento'],\n",
              "      dtype='object')"
            ]
          },
          "execution_count": 232,
          "metadata": {},
          "output_type": "execute_result"
        }
      ],
      "source": [
        "politics_df.columns"
      ]
    },
    {
      "cell_type": "code",
      "execution_count": null,
      "metadata": {
        "id": "cnWNR4nRsNEc",
        "outputId": "e92b1938-0d60-4deb-9f8d-863773898d17"
      },
      "outputs": [
        {
          "data": {
            "text/html": [
              "<div>\n",
              "<style scoped>\n",
              "    .dataframe tbody tr th:only-of-type {\n",
              "        vertical-align: middle;\n",
              "    }\n",
              "\n",
              "    .dataframe tbody tr th {\n",
              "        vertical-align: top;\n",
              "    }\n",
              "\n",
              "    .dataframe thead th {\n",
              "        text-align: right;\n",
              "    }\n",
              "</style>\n",
              "<table border=\"1\" class=\"dataframe\">\n",
              "  <thead>\n",
              "    <tr style=\"text-align: right;\">\n",
              "      <th></th>\n",
              "      <th>txNomeParlamentar</th>\n",
              "      <th>cpf</th>\n",
              "      <th>ideCadastro</th>\n",
              "      <th>nuCarteiraParlamentar</th>\n",
              "      <th>nuLegislatura</th>\n",
              "      <th>sgUF</th>\n",
              "      <th>sgPartido</th>\n",
              "      <th>codLegislatura</th>\n",
              "      <th>numSubCota</th>\n",
              "      <th>txtDescricao</th>\n",
              "      <th>...</th>\n",
              "      <th>numParcela</th>\n",
              "      <th>txtPassageiro</th>\n",
              "      <th>txtTrecho</th>\n",
              "      <th>numLote</th>\n",
              "      <th>numRessarcimento</th>\n",
              "      <th>datPagamentoRestituicao</th>\n",
              "      <th>vlrRestituicao</th>\n",
              "      <th>nuDeputadoId</th>\n",
              "      <th>ideDocumento</th>\n",
              "      <th>urlDocumento</th>\n",
              "    </tr>\n",
              "  </thead>\n",
              "  <tbody>\n",
              "    <tr>\n",
              "      <th>830</th>\n",
              "      <td>Danilo Forte</td>\n",
              "      <td>1.213373e+10</td>\n",
              "      <td>62881.0</td>\n",
              "      <td>91.0</td>\n",
              "      <td>2019</td>\n",
              "      <td>CE</td>\n",
              "      <td>UNIÃO</td>\n",
              "      <td>56</td>\n",
              "      <td>1</td>\n",
              "      <td>MANUTENÇÃO DE ESCRITÓRIO DE APOIO À ATIVIDADE ...</td>\n",
              "      <td>...</td>\n",
              "      <td>0</td>\n",
              "      <td>NaN</td>\n",
              "      <td>NaN</td>\n",
              "      <td>1906452</td>\n",
              "      <td>NaN</td>\n",
              "      <td>NaN</td>\n",
              "      <td>NaN</td>\n",
              "      <td>2227</td>\n",
              "      <td>7492263</td>\n",
              "      <td>https://www.camara.leg.br/cota-parlamentar/doc...</td>\n",
              "    </tr>\n",
              "    <tr>\n",
              "      <th>831</th>\n",
              "      <td>Danilo Forte</td>\n",
              "      <td>1.213373e+10</td>\n",
              "      <td>62881.0</td>\n",
              "      <td>91.0</td>\n",
              "      <td>2019</td>\n",
              "      <td>CE</td>\n",
              "      <td>UNIÃO</td>\n",
              "      <td>56</td>\n",
              "      <td>1</td>\n",
              "      <td>MANUTENÇÃO DE ESCRITÓRIO DE APOIO À ATIVIDADE ...</td>\n",
              "      <td>...</td>\n",
              "      <td>0</td>\n",
              "      <td>NaN</td>\n",
              "      <td>NaN</td>\n",
              "      <td>1902046</td>\n",
              "      <td>NaN</td>\n",
              "      <td>NaN</td>\n",
              "      <td>NaN</td>\n",
              "      <td>2227</td>\n",
              "      <td>7486094</td>\n",
              "      <td>https://www.camara.leg.br/cota-parlamentar/doc...</td>\n",
              "    </tr>\n",
              "    <tr>\n",
              "      <th>832</th>\n",
              "      <td>Danilo Forte</td>\n",
              "      <td>1.213373e+10</td>\n",
              "      <td>62881.0</td>\n",
              "      <td>91.0</td>\n",
              "      <td>2019</td>\n",
              "      <td>CE</td>\n",
              "      <td>UNIÃO</td>\n",
              "      <td>56</td>\n",
              "      <td>3</td>\n",
              "      <td>COMBUSTÍVEIS E LUBRIFICANTES.</td>\n",
              "      <td>...</td>\n",
              "      <td>0</td>\n",
              "      <td>NaN</td>\n",
              "      <td>NaN</td>\n",
              "      <td>1904291</td>\n",
              "      <td>NaN</td>\n",
              "      <td>NaN</td>\n",
              "      <td>NaN</td>\n",
              "      <td>2227</td>\n",
              "      <td>7490448</td>\n",
              "      <td>https://www.camara.leg.br/cota-parlamentar/not...</td>\n",
              "    </tr>\n",
              "    <tr>\n",
              "      <th>833</th>\n",
              "      <td>Danilo Forte</td>\n",
              "      <td>1.213373e+10</td>\n",
              "      <td>62881.0</td>\n",
              "      <td>91.0</td>\n",
              "      <td>2019</td>\n",
              "      <td>CE</td>\n",
              "      <td>UNIÃO</td>\n",
              "      <td>56</td>\n",
              "      <td>3</td>\n",
              "      <td>COMBUSTÍVEIS E LUBRIFICANTES.</td>\n",
              "      <td>...</td>\n",
              "      <td>0</td>\n",
              "      <td>NaN</td>\n",
              "      <td>NaN</td>\n",
              "      <td>1901064</td>\n",
              "      <td>NaN</td>\n",
              "      <td>NaN</td>\n",
              "      <td>NaN</td>\n",
              "      <td>2227</td>\n",
              "      <td>7484011</td>\n",
              "      <td>https://www.camara.leg.br/cota-parlamentar/doc...</td>\n",
              "    </tr>\n",
              "    <tr>\n",
              "      <th>834</th>\n",
              "      <td>Danilo Forte</td>\n",
              "      <td>1.213373e+10</td>\n",
              "      <td>62881.0</td>\n",
              "      <td>91.0</td>\n",
              "      <td>2019</td>\n",
              "      <td>CE</td>\n",
              "      <td>UNIÃO</td>\n",
              "      <td>56</td>\n",
              "      <td>3</td>\n",
              "      <td>COMBUSTÍVEIS E LUBRIFICANTES.</td>\n",
              "      <td>...</td>\n",
              "      <td>0</td>\n",
              "      <td>NaN</td>\n",
              "      <td>NaN</td>\n",
              "      <td>1904291</td>\n",
              "      <td>NaN</td>\n",
              "      <td>NaN</td>\n",
              "      <td>NaN</td>\n",
              "      <td>2227</td>\n",
              "      <td>7490748</td>\n",
              "      <td>https://www.camara.leg.br/cota-parlamentar/not...</td>\n",
              "    </tr>\n",
              "    <tr>\n",
              "      <th>...</th>\n",
              "      <td>...</td>\n",
              "      <td>...</td>\n",
              "      <td>...</td>\n",
              "      <td>...</td>\n",
              "      <td>...</td>\n",
              "      <td>...</td>\n",
              "      <td>...</td>\n",
              "      <td>...</td>\n",
              "      <td>...</td>\n",
              "      <td>...</td>\n",
              "      <td>...</td>\n",
              "      <td>...</td>\n",
              "      <td>...</td>\n",
              "      <td>...</td>\n",
              "      <td>...</td>\n",
              "      <td>...</td>\n",
              "      <td>...</td>\n",
              "      <td>...</td>\n",
              "      <td>...</td>\n",
              "      <td>...</td>\n",
              "      <td>...</td>\n",
              "    </tr>\n",
              "    <tr>\n",
              "      <th>223224</th>\n",
              "      <td>Dr Fabio Rueda</td>\n",
              "      <td>2.539052e+09</td>\n",
              "      <td>227401.0</td>\n",
              "      <td>569.0</td>\n",
              "      <td>2023</td>\n",
              "      <td>AC</td>\n",
              "      <td>UNIÃO</td>\n",
              "      <td>57</td>\n",
              "      <td>3</td>\n",
              "      <td>COMBUSTÍVEIS E LUBRIFICANTES.</td>\n",
              "      <td>...</td>\n",
              "      <td>0</td>\n",
              "      <td>NaN</td>\n",
              "      <td>NaN</td>\n",
              "      <td>2001898</td>\n",
              "      <td>NaN</td>\n",
              "      <td>NaN</td>\n",
              "      <td>NaN</td>\n",
              "      <td>3755</td>\n",
              "      <td>7667774</td>\n",
              "      <td>https://www.camara.leg.br/cota-parlamentar/not...</td>\n",
              "    </tr>\n",
              "    <tr>\n",
              "      <th>223225</th>\n",
              "      <td>Dr Fabio Rueda</td>\n",
              "      <td>2.539052e+09</td>\n",
              "      <td>227401.0</td>\n",
              "      <td>569.0</td>\n",
              "      <td>2023</td>\n",
              "      <td>AC</td>\n",
              "      <td>UNIÃO</td>\n",
              "      <td>57</td>\n",
              "      <td>3</td>\n",
              "      <td>COMBUSTÍVEIS E LUBRIFICANTES.</td>\n",
              "      <td>...</td>\n",
              "      <td>0</td>\n",
              "      <td>NaN</td>\n",
              "      <td>NaN</td>\n",
              "      <td>2001898</td>\n",
              "      <td>NaN</td>\n",
              "      <td>NaN</td>\n",
              "      <td>NaN</td>\n",
              "      <td>3755</td>\n",
              "      <td>7667748</td>\n",
              "      <td>https://www.camara.leg.br/cota-parlamentar/not...</td>\n",
              "    </tr>\n",
              "    <tr>\n",
              "      <th>223226</th>\n",
              "      <td>Dr Fabio Rueda</td>\n",
              "      <td>2.539052e+09</td>\n",
              "      <td>227401.0</td>\n",
              "      <td>569.0</td>\n",
              "      <td>2023</td>\n",
              "      <td>AC</td>\n",
              "      <td>UNIÃO</td>\n",
              "      <td>57</td>\n",
              "      <td>10</td>\n",
              "      <td>TELEFONIA</td>\n",
              "      <td>...</td>\n",
              "      <td>0</td>\n",
              "      <td>NaN</td>\n",
              "      <td>NaN</td>\n",
              "      <td>0</td>\n",
              "      <td>0.0</td>\n",
              "      <td>NaN</td>\n",
              "      <td>NaN</td>\n",
              "      <td>3755</td>\n",
              "      <td>0</td>\n",
              "      <td>NaN</td>\n",
              "    </tr>\n",
              "    <tr>\n",
              "      <th>223227</th>\n",
              "      <td>Dr Fabio Rueda</td>\n",
              "      <td>2.539052e+09</td>\n",
              "      <td>227401.0</td>\n",
              "      <td>569.0</td>\n",
              "      <td>2023</td>\n",
              "      <td>AC</td>\n",
              "      <td>UNIÃO</td>\n",
              "      <td>57</td>\n",
              "      <td>998</td>\n",
              "      <td>PASSAGEM AÉREA - SIGEPA</td>\n",
              "      <td>...</td>\n",
              "      <td>0</td>\n",
              "      <td>FABIO GONCALVES DE RUEDA</td>\n",
              "      <td>BSB/GRU/REC</td>\n",
              "      <td>0</td>\n",
              "      <td>0.0</td>\n",
              "      <td>NaN</td>\n",
              "      <td>NaN</td>\n",
              "      <td>3755</td>\n",
              "      <td>218349</td>\n",
              "      <td>NaN</td>\n",
              "    </tr>\n",
              "    <tr>\n",
              "      <th>223228</th>\n",
              "      <td>Douglas Viegas</td>\n",
              "      <td>2.551906e+10</td>\n",
              "      <td>227433.0</td>\n",
              "      <td>571.0</td>\n",
              "      <td>2023</td>\n",
              "      <td>SP</td>\n",
              "      <td>UNIÃO</td>\n",
              "      <td>57</td>\n",
              "      <td>10</td>\n",
              "      <td>TELEFONIA</td>\n",
              "      <td>...</td>\n",
              "      <td>0</td>\n",
              "      <td>NaN</td>\n",
              "      <td>NaN</td>\n",
              "      <td>0</td>\n",
              "      <td>0.0</td>\n",
              "      <td>NaN</td>\n",
              "      <td>NaN</td>\n",
              "      <td>3756</td>\n",
              "      <td>0</td>\n",
              "      <td>NaN</td>\n",
              "    </tr>\n",
              "  </tbody>\n",
              "</table>\n",
              "<p>222399 rows × 32 columns</p>\n",
              "</div>"
            ],
            "text/plain": [
              "       txNomeParlamentar           cpf  ideCadastro  nuCarteiraParlamentar  \\\n",
              "830         Danilo Forte  1.213373e+10      62881.0                   91.0   \n",
              "831         Danilo Forte  1.213373e+10      62881.0                   91.0   \n",
              "832         Danilo Forte  1.213373e+10      62881.0                   91.0   \n",
              "833         Danilo Forte  1.213373e+10      62881.0                   91.0   \n",
              "834         Danilo Forte  1.213373e+10      62881.0                   91.0   \n",
              "...                  ...           ...          ...                    ...   \n",
              "223224    Dr Fabio Rueda  2.539052e+09     227401.0                  569.0   \n",
              "223225    Dr Fabio Rueda  2.539052e+09     227401.0                  569.0   \n",
              "223226    Dr Fabio Rueda  2.539052e+09     227401.0                  569.0   \n",
              "223227    Dr Fabio Rueda  2.539052e+09     227401.0                  569.0   \n",
              "223228    Douglas Viegas  2.551906e+10     227433.0                  571.0   \n",
              "\n",
              "        nuLegislatura sgUF sgPartido  codLegislatura  numSubCota  \\\n",
              "830              2019   CE     UNIÃO              56           1   \n",
              "831              2019   CE     UNIÃO              56           1   \n",
              "832              2019   CE     UNIÃO              56           3   \n",
              "833              2019   CE     UNIÃO              56           3   \n",
              "834              2019   CE     UNIÃO              56           3   \n",
              "...               ...  ...       ...             ...         ...   \n",
              "223224           2023   AC     UNIÃO              57           3   \n",
              "223225           2023   AC     UNIÃO              57           3   \n",
              "223226           2023   AC     UNIÃO              57          10   \n",
              "223227           2023   AC     UNIÃO              57         998   \n",
              "223228           2023   SP     UNIÃO              57          10   \n",
              "\n",
              "                                             txtDescricao  ...  numParcela  \\\n",
              "830     MANUTENÇÃO DE ESCRITÓRIO DE APOIO À ATIVIDADE ...  ...           0   \n",
              "831     MANUTENÇÃO DE ESCRITÓRIO DE APOIO À ATIVIDADE ...  ...           0   \n",
              "832                         COMBUSTÍVEIS E LUBRIFICANTES.  ...           0   \n",
              "833                         COMBUSTÍVEIS E LUBRIFICANTES.  ...           0   \n",
              "834                         COMBUSTÍVEIS E LUBRIFICANTES.  ...           0   \n",
              "...                                                   ...  ...         ...   \n",
              "223224                      COMBUSTÍVEIS E LUBRIFICANTES.  ...           0   \n",
              "223225                      COMBUSTÍVEIS E LUBRIFICANTES.  ...           0   \n",
              "223226                                          TELEFONIA  ...           0   \n",
              "223227                            PASSAGEM AÉREA - SIGEPA  ...           0   \n",
              "223228                                          TELEFONIA  ...           0   \n",
              "\n",
              "                   txtPassageiro    txtTrecho  numLote numRessarcimento  \\\n",
              "830                          NaN          NaN  1906452              NaN   \n",
              "831                          NaN          NaN  1902046              NaN   \n",
              "832                          NaN          NaN  1904291              NaN   \n",
              "833                          NaN          NaN  1901064              NaN   \n",
              "834                          NaN          NaN  1904291              NaN   \n",
              "...                          ...          ...      ...              ...   \n",
              "223224                       NaN          NaN  2001898              NaN   \n",
              "223225                       NaN          NaN  2001898              NaN   \n",
              "223226                       NaN          NaN        0              0.0   \n",
              "223227  FABIO GONCALVES DE RUEDA  BSB/GRU/REC        0              0.0   \n",
              "223228                       NaN          NaN        0              0.0   \n",
              "\n",
              "        datPagamentoRestituicao vlrRestituicao  nuDeputadoId  ideDocumento  \\\n",
              "830                         NaN            NaN          2227       7492263   \n",
              "831                         NaN            NaN          2227       7486094   \n",
              "832                         NaN            NaN          2227       7490448   \n",
              "833                         NaN            NaN          2227       7484011   \n",
              "834                         NaN            NaN          2227       7490748   \n",
              "...                         ...            ...           ...           ...   \n",
              "223224                      NaN            NaN          3755       7667774   \n",
              "223225                      NaN            NaN          3755       7667748   \n",
              "223226                      NaN            NaN          3755             0   \n",
              "223227                      NaN            NaN          3755        218349   \n",
              "223228                      NaN            NaN          3756             0   \n",
              "\n",
              "                                             urlDocumento  \n",
              "830     https://www.camara.leg.br/cota-parlamentar/doc...  \n",
              "831     https://www.camara.leg.br/cota-parlamentar/doc...  \n",
              "832     https://www.camara.leg.br/cota-parlamentar/not...  \n",
              "833     https://www.camara.leg.br/cota-parlamentar/doc...  \n",
              "834     https://www.camara.leg.br/cota-parlamentar/not...  \n",
              "...                                                   ...  \n",
              "223224  https://www.camara.leg.br/cota-parlamentar/not...  \n",
              "223225  https://www.camara.leg.br/cota-parlamentar/not...  \n",
              "223226                                                NaN  \n",
              "223227                                                NaN  \n",
              "223228                                                NaN  \n",
              "\n",
              "[222399 rows x 32 columns]"
            ]
          },
          "execution_count": 233,
          "metadata": {},
          "output_type": "execute_result"
        }
      ],
      "source": [
        "#remove records that have the string 'LID.GOV-CD' in the column 'txNomeParlamentar' or contais LIDERANÇA in the column 'txNomeParlamentar'\n",
        "\n",
        "politics_df = politics_df[~politics_df['txNomeParlamentar'].str.contains('LID.GOV-CD')]\n",
        "\n",
        "politics_df = politics_df[~politics_df['txNomeParlamentar'].str.contains('LIDERANÇA')]\n",
        "\n",
        "politics_df = politics_df[~politics_df['txNomeParlamentar'].str.contains('LIDMIN')]\n",
        "\n",
        "politics_df\n"
      ]
    },
    {
      "cell_type": "code",
      "execution_count": null,
      "metadata": {
        "id": "qrmwnFJTsNEd",
        "outputId": "d28eca06-3948-4df1-e2c5-347b9761afc1"
      },
      "outputs": [
        {
          "data": {
            "text/html": [
              "<div>\n",
              "<style scoped>\n",
              "    .dataframe tbody tr th:only-of-type {\n",
              "        vertical-align: middle;\n",
              "    }\n",
              "\n",
              "    .dataframe tbody tr th {\n",
              "        vertical-align: top;\n",
              "    }\n",
              "\n",
              "    .dataframe thead th {\n",
              "        text-align: right;\n",
              "    }\n",
              "</style>\n",
              "<table border=\"1\" class=\"dataframe\">\n",
              "  <thead>\n",
              "    <tr style=\"text-align: right;\">\n",
              "      <th></th>\n",
              "      <th>0</th>\n",
              "    </tr>\n",
              "  </thead>\n",
              "  <tbody>\n",
              "    <tr>\n",
              "      <th>0</th>\n",
              "      <td>Danilo Forte</td>\n",
              "    </tr>\n",
              "    <tr>\n",
              "      <th>1</th>\n",
              "      <td>Norma Ayub</td>\n",
              "    </tr>\n",
              "    <tr>\n",
              "      <th>2</th>\n",
              "      <td>Julio Arcoverde</td>\n",
              "    </tr>\n",
              "    <tr>\n",
              "      <th>3</th>\n",
              "      <td>Fausto Pinato</td>\n",
              "    </tr>\n",
              "    <tr>\n",
              "      <th>4</th>\n",
              "      <td>Iracema Portella</td>\n",
              "    </tr>\n",
              "    <tr>\n",
              "      <th>...</th>\n",
              "      <td>...</td>\n",
              "    </tr>\n",
              "    <tr>\n",
              "      <th>781</th>\n",
              "      <td>Luciano Galego</td>\n",
              "    </tr>\n",
              "    <tr>\n",
              "      <th>782</th>\n",
              "      <td>Henrique Júnior</td>\n",
              "    </tr>\n",
              "    <tr>\n",
              "      <th>783</th>\n",
              "      <td>Felipe Saliba</td>\n",
              "    </tr>\n",
              "    <tr>\n",
              "      <th>784</th>\n",
              "      <td>Dr Fabio Rueda</td>\n",
              "    </tr>\n",
              "    <tr>\n",
              "      <th>785</th>\n",
              "      <td>Douglas Viegas</td>\n",
              "    </tr>\n",
              "  </tbody>\n",
              "</table>\n",
              "<p>786 rows × 1 columns</p>\n",
              "</div>"
            ],
            "text/plain": [
              "                    0\n",
              "0        Danilo Forte\n",
              "1          Norma Ayub\n",
              "2     Julio Arcoverde\n",
              "3       Fausto Pinato\n",
              "4    Iracema Portella\n",
              "..                ...\n",
              "781    Luciano Galego\n",
              "782   Henrique Júnior\n",
              "783     Felipe Saliba\n",
              "784    Dr Fabio Rueda\n",
              "785    Douglas Viegas\n",
              "\n",
              "[786 rows x 1 columns]"
            ]
          },
          "execution_count": 234,
          "metadata": {},
          "output_type": "execute_result"
        }
      ],
      "source": [
        "#show distinct values for txNomeParlamentar and assing it to a new dataframe called check_number_politics then save it to a csv file\n",
        "\n",
        "check_number_politics = politics_df['txNomeParlamentar'].unique()\n",
        "\n",
        "check_number_politics = pd.DataFrame(check_number_politics)\n",
        "\n",
        "check_number_politics.to_csv('check_number_politics.csv', index=False)\n",
        "\n",
        "check_number_politics\n",
        "\n"
      ]
    },
    {
      "cell_type": "code",
      "execution_count": null,
      "metadata": {
        "id": "fBEKjYrYsNEd"
      },
      "outputs": [],
      "source": [
        "# creates a new data frame with the columns: 'txNomeParlamentar', 'sgPartido', 'vlrDocumento', 'vlrRestituicao', 'vlrLiquido'\n",
        "\n",
        "gastos_2023_df = politics_df[['txNomeParlamentar', 'sgPartido', 'vlrDocumento', 'vlrRestituicao', 'vlrLiquido']]\n",
        "\n",
        "#remove column 'vlrRestituicao' from gastor_2023_df\n",
        "\n",
        "gastos_2023_df = gastos_2023_df.drop(columns=['vlrRestituicao'])\n"
      ]
    },
    {
      "cell_type": "code",
      "execution_count": null,
      "metadata": {
        "id": "wdIhR8F-sNEd",
        "outputId": "6cd0852d-fdad-4c5c-9a55-e0051efa68ad"
      },
      "outputs": [
        {
          "data": {
            "text/html": [
              "<div>\n",
              "<style scoped>\n",
              "    .dataframe tbody tr th:only-of-type {\n",
              "        vertical-align: middle;\n",
              "    }\n",
              "\n",
              "    .dataframe tbody tr th {\n",
              "        vertical-align: top;\n",
              "    }\n",
              "\n",
              "    .dataframe thead th {\n",
              "        text-align: right;\n",
              "    }\n",
              "</style>\n",
              "<table border=\"1\" class=\"dataframe\">\n",
              "  <thead>\n",
              "    <tr style=\"text-align: right;\">\n",
              "      <th></th>\n",
              "      <th>txNomeParlamentar</th>\n",
              "      <th>sgPartido</th>\n",
              "      <th>vlrDocumento</th>\n",
              "      <th>vlrLiquido</th>\n",
              "    </tr>\n",
              "  </thead>\n",
              "  <tbody>\n",
              "    <tr>\n",
              "      <th>830</th>\n",
              "      <td>Danilo Forte</td>\n",
              "      <td>UNIÃO</td>\n",
              "      <td>400.00</td>\n",
              "      <td>400.00</td>\n",
              "    </tr>\n",
              "    <tr>\n",
              "      <th>831</th>\n",
              "      <td>Danilo Forte</td>\n",
              "      <td>UNIÃO</td>\n",
              "      <td>2215.00</td>\n",
              "      <td>2215.00</td>\n",
              "    </tr>\n",
              "    <tr>\n",
              "      <th>832</th>\n",
              "      <td>Danilo Forte</td>\n",
              "      <td>UNIÃO</td>\n",
              "      <td>103.01</td>\n",
              "      <td>103.01</td>\n",
              "    </tr>\n",
              "    <tr>\n",
              "      <th>833</th>\n",
              "      <td>Danilo Forte</td>\n",
              "      <td>UNIÃO</td>\n",
              "      <td>240.14</td>\n",
              "      <td>240.14</td>\n",
              "    </tr>\n",
              "    <tr>\n",
              "      <th>834</th>\n",
              "      <td>Danilo Forte</td>\n",
              "      <td>UNIÃO</td>\n",
              "      <td>222.09</td>\n",
              "      <td>222.09</td>\n",
              "    </tr>\n",
              "    <tr>\n",
              "      <th>...</th>\n",
              "      <td>...</td>\n",
              "      <td>...</td>\n",
              "      <td>...</td>\n",
              "      <td>...</td>\n",
              "    </tr>\n",
              "    <tr>\n",
              "      <th>223224</th>\n",
              "      <td>Dr Fabio Rueda</td>\n",
              "      <td>UNIÃO</td>\n",
              "      <td>375.13</td>\n",
              "      <td>375.13</td>\n",
              "    </tr>\n",
              "    <tr>\n",
              "      <th>223225</th>\n",
              "      <td>Dr Fabio Rueda</td>\n",
              "      <td>UNIÃO</td>\n",
              "      <td>265.03</td>\n",
              "      <td>265.03</td>\n",
              "    </tr>\n",
              "    <tr>\n",
              "      <th>223226</th>\n",
              "      <td>Dr Fabio Rueda</td>\n",
              "      <td>UNIÃO</td>\n",
              "      <td>1.44</td>\n",
              "      <td>1.44</td>\n",
              "    </tr>\n",
              "    <tr>\n",
              "      <th>223227</th>\n",
              "      <td>Dr Fabio Rueda</td>\n",
              "      <td>UNIÃO</td>\n",
              "      <td>1367.51</td>\n",
              "      <td>1367.51</td>\n",
              "    </tr>\n",
              "    <tr>\n",
              "      <th>223228</th>\n",
              "      <td>Douglas Viegas</td>\n",
              "      <td>UNIÃO</td>\n",
              "      <td>0.51</td>\n",
              "      <td>0.51</td>\n",
              "    </tr>\n",
              "  </tbody>\n",
              "</table>\n",
              "<p>222399 rows × 4 columns</p>\n",
              "</div>"
            ],
            "text/plain": [
              "       txNomeParlamentar sgPartido  vlrDocumento  vlrLiquido\n",
              "830         Danilo Forte     UNIÃO        400.00      400.00\n",
              "831         Danilo Forte     UNIÃO       2215.00     2215.00\n",
              "832         Danilo Forte     UNIÃO        103.01      103.01\n",
              "833         Danilo Forte     UNIÃO        240.14      240.14\n",
              "834         Danilo Forte     UNIÃO        222.09      222.09\n",
              "...                  ...       ...           ...         ...\n",
              "223224    Dr Fabio Rueda     UNIÃO        375.13      375.13\n",
              "223225    Dr Fabio Rueda     UNIÃO        265.03      265.03\n",
              "223226    Dr Fabio Rueda     UNIÃO          1.44        1.44\n",
              "223227    Dr Fabio Rueda     UNIÃO       1367.51     1367.51\n",
              "223228    Douglas Viegas     UNIÃO          0.51        0.51\n",
              "\n",
              "[222399 rows x 4 columns]"
            ]
          },
          "execution_count": 236,
          "metadata": {},
          "output_type": "execute_result"
        }
      ],
      "source": [
        "gastos_2023_df"
      ]
    },
    {
      "cell_type": "code",
      "execution_count": null,
      "metadata": {
        "id": "jnWK8bq8sNEd",
        "outputId": "a87b7800-7095-49f9-81e1-80c89cc6d735"
      },
      "outputs": [
        {
          "data": {
            "text/plain": [
              "786"
            ]
          },
          "execution_count": 237,
          "metadata": {},
          "output_type": "execute_result"
        }
      ],
      "source": [
        "# count the number of times each politician appears in the data frame and does not repeat the name of the politician\n",
        "\n",
        "\n",
        "gastos_2023_df['txNomeParlamentar'].value_counts().count()\n"
      ]
    },
    {
      "cell_type": "code",
      "execution_count": null,
      "metadata": {
        "id": "o4csVyEGsNEe",
        "outputId": "ee225048-d266-4851-c27b-82f2d5a85a9e"
      },
      "outputs": [
        {
          "data": {
            "text/html": [
              "<div>\n",
              "<style scoped>\n",
              "    .dataframe tbody tr th:only-of-type {\n",
              "        vertical-align: middle;\n",
              "    }\n",
              "\n",
              "    .dataframe tbody tr th {\n",
              "        vertical-align: top;\n",
              "    }\n",
              "\n",
              "    .dataframe thead th {\n",
              "        text-align: right;\n",
              "    }\n",
              "</style>\n",
              "<table border=\"1\" class=\"dataframe\">\n",
              "  <thead>\n",
              "    <tr style=\"text-align: right;\">\n",
              "      <th></th>\n",
              "      <th>vlrDocumento</th>\n",
              "      <th>vlrLiquido</th>\n",
              "    </tr>\n",
              "  </thead>\n",
              "  <tbody>\n",
              "    <tr>\n",
              "      <th>count</th>\n",
              "      <td>222399.000000</td>\n",
              "      <td>222399.000000</td>\n",
              "    </tr>\n",
              "    <tr>\n",
              "      <th>mean</th>\n",
              "      <td>1060.007636</td>\n",
              "      <td>1053.511123</td>\n",
              "    </tr>\n",
              "    <tr>\n",
              "      <th>std</th>\n",
              "      <td>2975.388357</td>\n",
              "      <td>2954.583806</td>\n",
              "    </tr>\n",
              "    <tr>\n",
              "      <th>min</th>\n",
              "      <td>-6683.440000</td>\n",
              "      <td>-6683.440000</td>\n",
              "    </tr>\n",
              "    <tr>\n",
              "      <th>25%</th>\n",
              "      <td>86.085000</td>\n",
              "      <td>85.000000</td>\n",
              "    </tr>\n",
              "    <tr>\n",
              "      <th>50%</th>\n",
              "      <td>237.400000</td>\n",
              "      <td>235.800000</td>\n",
              "    </tr>\n",
              "    <tr>\n",
              "      <th>75%</th>\n",
              "      <td>1074.900000</td>\n",
              "      <td>1065.390000</td>\n",
              "    </tr>\n",
              "    <tr>\n",
              "      <th>max</th>\n",
              "      <td>178433.000000</td>\n",
              "      <td>161800.000000</td>\n",
              "    </tr>\n",
              "  </tbody>\n",
              "</table>\n",
              "</div>"
            ],
            "text/plain": [
              "        vlrDocumento     vlrLiquido\n",
              "count  222399.000000  222399.000000\n",
              "mean     1060.007636    1053.511123\n",
              "std      2975.388357    2954.583806\n",
              "min     -6683.440000   -6683.440000\n",
              "25%        86.085000      85.000000\n",
              "50%       237.400000     235.800000\n",
              "75%      1074.900000    1065.390000\n",
              "max    178433.000000  161800.000000"
            ]
          },
          "execution_count": 238,
          "metadata": {},
          "output_type": "execute_result"
        }
      ],
      "source": [
        "gastos_2023_df.describe()"
      ]
    },
    {
      "cell_type": "code",
      "execution_count": null,
      "metadata": {
        "id": "q5pJs-fVsNEe",
        "outputId": "c82554b0-226d-4df3-9338-1553c0cd1fca"
      },
      "outputs": [
        {
          "data": {
            "text/plain": [
              "234299820.0"
            ]
          },
          "execution_count": 239,
          "metadata": {},
          "output_type": "execute_result"
        }
      ],
      "source": [
        "gastos_2023_df['vlrLiquido'].sum().round()"
      ]
    },
    {
      "cell_type": "code",
      "execution_count": null,
      "metadata": {
        "id": "9FuEP9qtsNEf"
      },
      "outputs": [],
      "source": [
        "# create a new dataframe called totais_df and assing to it the totals of 'vlrLiquido' by 'sgPartido' and sort by 'vlrLiquido' in descending order\n",
        "\n",
        "totais_df = gastos_2023_df.groupby('sgPartido')['vlrLiquido'].sum().sort_values(ascending=False)\n"
      ]
    },
    {
      "cell_type": "code",
      "execution_count": null,
      "metadata": {
        "id": "BshkzxqWsNEf",
        "outputId": "e86c21c2-d541-4b55-91e5-d5a3dc45eb49"
      },
      "outputs": [
        {
          "data": {
            "text/plain": [
              "sgPartido\n",
              "PL               41250558.39\n",
              "PT               32395201.90\n",
              "UNIÃO            27900341.64\n",
              "PP               23582211.06\n",
              "PSD              20019702.47\n",
              "REPUBLICANOS     19882083.15\n",
              "MDB              19554354.31\n",
              "PDT               8925283.83\n",
              "PSB               7023162.32\n",
              "PSDB              6782507.60\n",
              "PODE              6668313.47\n",
              "PSOL              5158638.20\n",
              "PCdoB             3487655.43\n",
              "PV                2784921.21\n",
              "AVANTE            2560685.85\n",
              "PATRIOTA          2219490.70\n",
              "SOLIDARIEDADE     1853546.91\n",
              "CIDADANIA          826381.54\n",
              "NOVO               500747.93\n",
              "REDE               427758.18\n",
              "PSC                265985.66\n",
              "PTB                132036.43\n",
              "PROS                98252.17\n",
              "Name: vlrLiquido, dtype: float64"
            ]
          },
          "execution_count": 241,
          "metadata": {},
          "output_type": "execute_result"
        }
      ],
      "source": [
        "totais_df\n"
      ]
    },
    {
      "cell_type": "code",
      "execution_count": null,
      "metadata": {
        "id": "2ViCgx5QsNEf",
        "outputId": "42a83abd-6bf2-4156-d8fc-fa0956241e77"
      },
      "outputs": [
        {
          "data": {
            "application/vnd.plotly.v1+json": {
              "config": {
                "plotlyServerURL": "https://plot.ly"
              },
              "data": [
                {
                  "alignmentgroup": "True",
                  "hovertemplate": "sgPartido=%{x}<br>vlrLiquido=%{y}<extra></extra>",
                  "legendgroup": "",
                  "marker": {
                    "color": "#636efa",
                    "pattern": {
                      "shape": ""
                    }
                  },
                  "name": "",
                  "offsetgroup": "",
                  "orientation": "v",
                  "showlegend": false,
                  "textposition": "auto",
                  "type": "bar",
                  "x": [
                    "PL",
                    "PT",
                    "UNIÃO",
                    "PP",
                    "PSD",
                    "REPUBLICANOS",
                    "MDB",
                    "PDT",
                    "PSB",
                    "PSDB",
                    "PODE",
                    "PSOL",
                    "PCdoB",
                    "PV",
                    "AVANTE",
                    "PATRIOTA",
                    "SOLIDARIEDADE",
                    "CIDADANIA",
                    "NOVO",
                    "REDE",
                    "PSC",
                    "PTB",
                    "PROS"
                  ],
                  "xaxis": "x",
                  "y": [
                    41250558.39,
                    32395201.9,
                    27900341.64,
                    23582211.06,
                    20019702.47,
                    19882083.15,
                    19554354.31,
                    8925283.83,
                    7023162.32,
                    6782507.6,
                    6668313.47,
                    5158638.2,
                    3487655.43,
                    2784921.21,
                    2560685.85,
                    2219490.7,
                    1853546.91,
                    826381.54,
                    500747.93,
                    427758.18,
                    265985.66,
                    132036.43,
                    98252.17
                  ],
                  "yaxis": "y"
                }
              ],
              "layout": {
                "barmode": "relative",
                "legend": {
                  "tracegroupgap": 0
                },
                "template": {
                  "data": {
                    "bar": [
                      {
                        "error_x": {
                          "color": "#2a3f5f"
                        },
                        "error_y": {
                          "color": "#2a3f5f"
                        },
                        "marker": {
                          "line": {
                            "color": "#E5ECF6",
                            "width": 0.5
                          },
                          "pattern": {
                            "fillmode": "overlay",
                            "size": 10,
                            "solidity": 0.2
                          }
                        },
                        "type": "bar"
                      }
                    ],
                    "barpolar": [
                      {
                        "marker": {
                          "line": {
                            "color": "#E5ECF6",
                            "width": 0.5
                          },
                          "pattern": {
                            "fillmode": "overlay",
                            "size": 10,
                            "solidity": 0.2
                          }
                        },
                        "type": "barpolar"
                      }
                    ],
                    "carpet": [
                      {
                        "aaxis": {
                          "endlinecolor": "#2a3f5f",
                          "gridcolor": "white",
                          "linecolor": "white",
                          "minorgridcolor": "white",
                          "startlinecolor": "#2a3f5f"
                        },
                        "baxis": {
                          "endlinecolor": "#2a3f5f",
                          "gridcolor": "white",
                          "linecolor": "white",
                          "minorgridcolor": "white",
                          "startlinecolor": "#2a3f5f"
                        },
                        "type": "carpet"
                      }
                    ],
                    "choropleth": [
                      {
                        "colorbar": {
                          "outlinewidth": 0,
                          "ticks": ""
                        },
                        "type": "choropleth"
                      }
                    ],
                    "contour": [
                      {
                        "colorbar": {
                          "outlinewidth": 0,
                          "ticks": ""
                        },
                        "colorscale": [
                          [
                            0,
                            "#0d0887"
                          ],
                          [
                            0.1111111111111111,
                            "#46039f"
                          ],
                          [
                            0.2222222222222222,
                            "#7201a8"
                          ],
                          [
                            0.3333333333333333,
                            "#9c179e"
                          ],
                          [
                            0.4444444444444444,
                            "#bd3786"
                          ],
                          [
                            0.5555555555555556,
                            "#d8576b"
                          ],
                          [
                            0.6666666666666666,
                            "#ed7953"
                          ],
                          [
                            0.7777777777777778,
                            "#fb9f3a"
                          ],
                          [
                            0.8888888888888888,
                            "#fdca26"
                          ],
                          [
                            1,
                            "#f0f921"
                          ]
                        ],
                        "type": "contour"
                      }
                    ],
                    "contourcarpet": [
                      {
                        "colorbar": {
                          "outlinewidth": 0,
                          "ticks": ""
                        },
                        "type": "contourcarpet"
                      }
                    ],
                    "heatmap": [
                      {
                        "colorbar": {
                          "outlinewidth": 0,
                          "ticks": ""
                        },
                        "colorscale": [
                          [
                            0,
                            "#0d0887"
                          ],
                          [
                            0.1111111111111111,
                            "#46039f"
                          ],
                          [
                            0.2222222222222222,
                            "#7201a8"
                          ],
                          [
                            0.3333333333333333,
                            "#9c179e"
                          ],
                          [
                            0.4444444444444444,
                            "#bd3786"
                          ],
                          [
                            0.5555555555555556,
                            "#d8576b"
                          ],
                          [
                            0.6666666666666666,
                            "#ed7953"
                          ],
                          [
                            0.7777777777777778,
                            "#fb9f3a"
                          ],
                          [
                            0.8888888888888888,
                            "#fdca26"
                          ],
                          [
                            1,
                            "#f0f921"
                          ]
                        ],
                        "type": "heatmap"
                      }
                    ],
                    "heatmapgl": [
                      {
                        "colorbar": {
                          "outlinewidth": 0,
                          "ticks": ""
                        },
                        "colorscale": [
                          [
                            0,
                            "#0d0887"
                          ],
                          [
                            0.1111111111111111,
                            "#46039f"
                          ],
                          [
                            0.2222222222222222,
                            "#7201a8"
                          ],
                          [
                            0.3333333333333333,
                            "#9c179e"
                          ],
                          [
                            0.4444444444444444,
                            "#bd3786"
                          ],
                          [
                            0.5555555555555556,
                            "#d8576b"
                          ],
                          [
                            0.6666666666666666,
                            "#ed7953"
                          ],
                          [
                            0.7777777777777778,
                            "#fb9f3a"
                          ],
                          [
                            0.8888888888888888,
                            "#fdca26"
                          ],
                          [
                            1,
                            "#f0f921"
                          ]
                        ],
                        "type": "heatmapgl"
                      }
                    ],
                    "histogram": [
                      {
                        "marker": {
                          "pattern": {
                            "fillmode": "overlay",
                            "size": 10,
                            "solidity": 0.2
                          }
                        },
                        "type": "histogram"
                      }
                    ],
                    "histogram2d": [
                      {
                        "colorbar": {
                          "outlinewidth": 0,
                          "ticks": ""
                        },
                        "colorscale": [
                          [
                            0,
                            "#0d0887"
                          ],
                          [
                            0.1111111111111111,
                            "#46039f"
                          ],
                          [
                            0.2222222222222222,
                            "#7201a8"
                          ],
                          [
                            0.3333333333333333,
                            "#9c179e"
                          ],
                          [
                            0.4444444444444444,
                            "#bd3786"
                          ],
                          [
                            0.5555555555555556,
                            "#d8576b"
                          ],
                          [
                            0.6666666666666666,
                            "#ed7953"
                          ],
                          [
                            0.7777777777777778,
                            "#fb9f3a"
                          ],
                          [
                            0.8888888888888888,
                            "#fdca26"
                          ],
                          [
                            1,
                            "#f0f921"
                          ]
                        ],
                        "type": "histogram2d"
                      }
                    ],
                    "histogram2dcontour": [
                      {
                        "colorbar": {
                          "outlinewidth": 0,
                          "ticks": ""
                        },
                        "colorscale": [
                          [
                            0,
                            "#0d0887"
                          ],
                          [
                            0.1111111111111111,
                            "#46039f"
                          ],
                          [
                            0.2222222222222222,
                            "#7201a8"
                          ],
                          [
                            0.3333333333333333,
                            "#9c179e"
                          ],
                          [
                            0.4444444444444444,
                            "#bd3786"
                          ],
                          [
                            0.5555555555555556,
                            "#d8576b"
                          ],
                          [
                            0.6666666666666666,
                            "#ed7953"
                          ],
                          [
                            0.7777777777777778,
                            "#fb9f3a"
                          ],
                          [
                            0.8888888888888888,
                            "#fdca26"
                          ],
                          [
                            1,
                            "#f0f921"
                          ]
                        ],
                        "type": "histogram2dcontour"
                      }
                    ],
                    "mesh3d": [
                      {
                        "colorbar": {
                          "outlinewidth": 0,
                          "ticks": ""
                        },
                        "type": "mesh3d"
                      }
                    ],
                    "parcoords": [
                      {
                        "line": {
                          "colorbar": {
                            "outlinewidth": 0,
                            "ticks": ""
                          }
                        },
                        "type": "parcoords"
                      }
                    ],
                    "pie": [
                      {
                        "automargin": true,
                        "type": "pie"
                      }
                    ],
                    "scatter": [
                      {
                        "fillpattern": {
                          "fillmode": "overlay",
                          "size": 10,
                          "solidity": 0.2
                        },
                        "type": "scatter"
                      }
                    ],
                    "scatter3d": [
                      {
                        "line": {
                          "colorbar": {
                            "outlinewidth": 0,
                            "ticks": ""
                          }
                        },
                        "marker": {
                          "colorbar": {
                            "outlinewidth": 0,
                            "ticks": ""
                          }
                        },
                        "type": "scatter3d"
                      }
                    ],
                    "scattercarpet": [
                      {
                        "marker": {
                          "colorbar": {
                            "outlinewidth": 0,
                            "ticks": ""
                          }
                        },
                        "type": "scattercarpet"
                      }
                    ],
                    "scattergeo": [
                      {
                        "marker": {
                          "colorbar": {
                            "outlinewidth": 0,
                            "ticks": ""
                          }
                        },
                        "type": "scattergeo"
                      }
                    ],
                    "scattergl": [
                      {
                        "marker": {
                          "colorbar": {
                            "outlinewidth": 0,
                            "ticks": ""
                          }
                        },
                        "type": "scattergl"
                      }
                    ],
                    "scattermapbox": [
                      {
                        "marker": {
                          "colorbar": {
                            "outlinewidth": 0,
                            "ticks": ""
                          }
                        },
                        "type": "scattermapbox"
                      }
                    ],
                    "scatterpolar": [
                      {
                        "marker": {
                          "colorbar": {
                            "outlinewidth": 0,
                            "ticks": ""
                          }
                        },
                        "type": "scatterpolar"
                      }
                    ],
                    "scatterpolargl": [
                      {
                        "marker": {
                          "colorbar": {
                            "outlinewidth": 0,
                            "ticks": ""
                          }
                        },
                        "type": "scatterpolargl"
                      }
                    ],
                    "scatterternary": [
                      {
                        "marker": {
                          "colorbar": {
                            "outlinewidth": 0,
                            "ticks": ""
                          }
                        },
                        "type": "scatterternary"
                      }
                    ],
                    "surface": [
                      {
                        "colorbar": {
                          "outlinewidth": 0,
                          "ticks": ""
                        },
                        "colorscale": [
                          [
                            0,
                            "#0d0887"
                          ],
                          [
                            0.1111111111111111,
                            "#46039f"
                          ],
                          [
                            0.2222222222222222,
                            "#7201a8"
                          ],
                          [
                            0.3333333333333333,
                            "#9c179e"
                          ],
                          [
                            0.4444444444444444,
                            "#bd3786"
                          ],
                          [
                            0.5555555555555556,
                            "#d8576b"
                          ],
                          [
                            0.6666666666666666,
                            "#ed7953"
                          ],
                          [
                            0.7777777777777778,
                            "#fb9f3a"
                          ],
                          [
                            0.8888888888888888,
                            "#fdca26"
                          ],
                          [
                            1,
                            "#f0f921"
                          ]
                        ],
                        "type": "surface"
                      }
                    ],
                    "table": [
                      {
                        "cells": {
                          "fill": {
                            "color": "#EBF0F8"
                          },
                          "line": {
                            "color": "white"
                          }
                        },
                        "header": {
                          "fill": {
                            "color": "#C8D4E3"
                          },
                          "line": {
                            "color": "white"
                          }
                        },
                        "type": "table"
                      }
                    ]
                  },
                  "layout": {
                    "annotationdefaults": {
                      "arrowcolor": "#2a3f5f",
                      "arrowhead": 0,
                      "arrowwidth": 1
                    },
                    "autotypenumbers": "strict",
                    "coloraxis": {
                      "colorbar": {
                        "outlinewidth": 0,
                        "ticks": ""
                      }
                    },
                    "colorscale": {
                      "diverging": [
                        [
                          0,
                          "#8e0152"
                        ],
                        [
                          0.1,
                          "#c51b7d"
                        ],
                        [
                          0.2,
                          "#de77ae"
                        ],
                        [
                          0.3,
                          "#f1b6da"
                        ],
                        [
                          0.4,
                          "#fde0ef"
                        ],
                        [
                          0.5,
                          "#f7f7f7"
                        ],
                        [
                          0.6,
                          "#e6f5d0"
                        ],
                        [
                          0.7,
                          "#b8e186"
                        ],
                        [
                          0.8,
                          "#7fbc41"
                        ],
                        [
                          0.9,
                          "#4d9221"
                        ],
                        [
                          1,
                          "#276419"
                        ]
                      ],
                      "sequential": [
                        [
                          0,
                          "#0d0887"
                        ],
                        [
                          0.1111111111111111,
                          "#46039f"
                        ],
                        [
                          0.2222222222222222,
                          "#7201a8"
                        ],
                        [
                          0.3333333333333333,
                          "#9c179e"
                        ],
                        [
                          0.4444444444444444,
                          "#bd3786"
                        ],
                        [
                          0.5555555555555556,
                          "#d8576b"
                        ],
                        [
                          0.6666666666666666,
                          "#ed7953"
                        ],
                        [
                          0.7777777777777778,
                          "#fb9f3a"
                        ],
                        [
                          0.8888888888888888,
                          "#fdca26"
                        ],
                        [
                          1,
                          "#f0f921"
                        ]
                      ],
                      "sequentialminus": [
                        [
                          0,
                          "#0d0887"
                        ],
                        [
                          0.1111111111111111,
                          "#46039f"
                        ],
                        [
                          0.2222222222222222,
                          "#7201a8"
                        ],
                        [
                          0.3333333333333333,
                          "#9c179e"
                        ],
                        [
                          0.4444444444444444,
                          "#bd3786"
                        ],
                        [
                          0.5555555555555556,
                          "#d8576b"
                        ],
                        [
                          0.6666666666666666,
                          "#ed7953"
                        ],
                        [
                          0.7777777777777778,
                          "#fb9f3a"
                        ],
                        [
                          0.8888888888888888,
                          "#fdca26"
                        ],
                        [
                          1,
                          "#f0f921"
                        ]
                      ]
                    },
                    "colorway": [
                      "#636efa",
                      "#EF553B",
                      "#00cc96",
                      "#ab63fa",
                      "#FFA15A",
                      "#19d3f3",
                      "#FF6692",
                      "#B6E880",
                      "#FF97FF",
                      "#FECB52"
                    ],
                    "font": {
                      "color": "#2a3f5f"
                    },
                    "geo": {
                      "bgcolor": "white",
                      "lakecolor": "white",
                      "landcolor": "#E5ECF6",
                      "showlakes": true,
                      "showland": true,
                      "subunitcolor": "white"
                    },
                    "hoverlabel": {
                      "align": "left"
                    },
                    "hovermode": "closest",
                    "mapbox": {
                      "style": "light"
                    },
                    "paper_bgcolor": "white",
                    "plot_bgcolor": "#E5ECF6",
                    "polar": {
                      "angularaxis": {
                        "gridcolor": "white",
                        "linecolor": "white",
                        "ticks": ""
                      },
                      "bgcolor": "#E5ECF6",
                      "radialaxis": {
                        "gridcolor": "white",
                        "linecolor": "white",
                        "ticks": ""
                      }
                    },
                    "scene": {
                      "xaxis": {
                        "backgroundcolor": "#E5ECF6",
                        "gridcolor": "white",
                        "gridwidth": 2,
                        "linecolor": "white",
                        "showbackground": true,
                        "ticks": "",
                        "zerolinecolor": "white"
                      },
                      "yaxis": {
                        "backgroundcolor": "#E5ECF6",
                        "gridcolor": "white",
                        "gridwidth": 2,
                        "linecolor": "white",
                        "showbackground": true,
                        "ticks": "",
                        "zerolinecolor": "white"
                      },
                      "zaxis": {
                        "backgroundcolor": "#E5ECF6",
                        "gridcolor": "white",
                        "gridwidth": 2,
                        "linecolor": "white",
                        "showbackground": true,
                        "ticks": "",
                        "zerolinecolor": "white"
                      }
                    },
                    "shapedefaults": {
                      "line": {
                        "color": "#2a3f5f"
                      }
                    },
                    "ternary": {
                      "aaxis": {
                        "gridcolor": "white",
                        "linecolor": "white",
                        "ticks": ""
                      },
                      "baxis": {
                        "gridcolor": "white",
                        "linecolor": "white",
                        "ticks": ""
                      },
                      "bgcolor": "#E5ECF6",
                      "caxis": {
                        "gridcolor": "white",
                        "linecolor": "white",
                        "ticks": ""
                      }
                    },
                    "title": {
                      "x": 0.05
                    },
                    "xaxis": {
                      "automargin": true,
                      "gridcolor": "white",
                      "linecolor": "white",
                      "ticks": "",
                      "title": {
                        "standoff": 15
                      },
                      "zerolinecolor": "white",
                      "zerolinewidth": 2
                    },
                    "yaxis": {
                      "automargin": true,
                      "gridcolor": "white",
                      "linecolor": "white",
                      "ticks": "",
                      "title": {
                        "standoff": 15
                      },
                      "zerolinecolor": "white",
                      "zerolinewidth": 2
                    }
                  }
                },
                "title": {
                  "text": "Total de gastos por partido em Milhoes de Reais em 2023"
                },
                "xaxis": {
                  "anchor": "y",
                  "domain": [
                    0,
                    1
                  ],
                  "title": {
                    "text": "sgPartido"
                  }
                },
                "yaxis": {
                  "anchor": "x",
                  "domain": [
                    0,
                    1
                  ],
                  "title": {
                    "text": "vlrLiquido"
                  }
                }
              }
            }
          },
          "metadata": {},
          "output_type": "display_data"
        }
      ],
      "source": [
        "#using plotly express create a bar chart with the totals of 'vlrLiquido' by 'sgPartido'\n",
        "\n",
        "fig = px.bar(totais_df, x=totais_df.index, y='vlrLiquido', title='Total de gastos por partido em Milhoes de Reais em 2023')\n",
        "\n",
        "fig.show()"
      ]
    },
    {
      "cell_type": "code",
      "execution_count": null,
      "metadata": {
        "id": "rrIRcwjYsNEf",
        "outputId": "17d6328d-956f-4248-9fc8-508da7d0969b"
      },
      "outputs": [
        {
          "data": {
            "text/plain": [
              "sgPartido\n",
              "REDE               3\n",
              "PTB                4\n",
              "PROS               4\n",
              "CIDADANIA          6\n",
              "NOVO               8\n",
              "PATRIOTA           8\n",
              "PSC                8\n",
              "AVANTE             9\n",
              "PV                 9\n",
              "PCdoB             10\n",
              "SOLIDARIEDADE     12\n",
              "PSOL              15\n",
              "PODE              24\n",
              "PDT               28\n",
              "PSDB              29\n",
              "PSB               33\n",
              "MDB               64\n",
              "REPUBLICANOS      68\n",
              "PSD               72\n",
              "PT                83\n",
              "PP                85\n",
              "UNIÃO             91\n",
              "PL               122\n",
              "Name: txNomeParlamentar, dtype: int64"
            ]
          },
          "execution_count": 243,
          "metadata": {},
          "output_type": "execute_result"
        }
      ],
      "source": [
        "#calculate the number of txNomeParlamentar distinct by sgPartido and order by sgPartido\n",
        "\n",
        "gastos_2023_df.groupby('sgPartido')['txNomeParlamentar'].nunique().sort_values()"
      ]
    },
    {
      "cell_type": "markdown",
      "metadata": {
        "id": "phGE3W8CsNEf"
      },
      "source": [
        "# Possivelmente ha mais de 513 Deputados, pelo motivo do dataset concentrar gastos de 2 mandatos..."
      ]
    },
    {
      "cell_type": "code",
      "execution_count": null,
      "metadata": {
        "id": "-f-zx8BasNEg"
      },
      "outputs": [],
      "source": [
        "n_politicos_by_partido_df = gastos_2023_df.groupby('sgPartido')['txNomeParlamentar'].nunique().sort_values()"
      ]
    },
    {
      "cell_type": "code",
      "execution_count": null,
      "metadata": {
        "id": "g_-r1K8DsNEh"
      },
      "outputs": [],
      "source": [
        "#write gastor_2023_df to a csv file called gastor_2023.csv in the current directory\n",
        "\n",
        "gastos_2023_df.to_csv('gastos_2023.csv')"
      ]
    },
    {
      "cell_type": "code",
      "execution_count": null,
      "metadata": {
        "id": "8_Bn14UxsNEh"
      },
      "outputs": [],
      "source": [
        "#creates a new dataframe called holistic_view_df with tge dataframes totais_df and n_politicos_by_partido_df\n",
        "\n",
        "holistic_view_df = pd.concat([totais_df, n_politicos_by_partido_df], axis=1)\n"
      ]
    },
    {
      "cell_type": "code",
      "execution_count": null,
      "metadata": {
        "id": "wS8JEhxZsNEh",
        "outputId": "d6ba7a5e-20f5-4658-e489-5cacfcb715d7"
      },
      "outputs": [
        {
          "data": {
            "text/html": [
              "<div>\n",
              "<style scoped>\n",
              "    .dataframe tbody tr th:only-of-type {\n",
              "        vertical-align: middle;\n",
              "    }\n",
              "\n",
              "    .dataframe tbody tr th {\n",
              "        vertical-align: top;\n",
              "    }\n",
              "\n",
              "    .dataframe thead th {\n",
              "        text-align: right;\n",
              "    }\n",
              "</style>\n",
              "<table border=\"1\" class=\"dataframe\">\n",
              "  <thead>\n",
              "    <tr style=\"text-align: right;\">\n",
              "      <th></th>\n",
              "      <th>vlrLiquido</th>\n",
              "      <th>txNomeParlamentar</th>\n",
              "    </tr>\n",
              "    <tr>\n",
              "      <th>sgPartido</th>\n",
              "      <th></th>\n",
              "      <th></th>\n",
              "    </tr>\n",
              "  </thead>\n",
              "  <tbody>\n",
              "    <tr>\n",
              "      <th>PL</th>\n",
              "      <td>41250558.39</td>\n",
              "      <td>122</td>\n",
              "    </tr>\n",
              "    <tr>\n",
              "      <th>PT</th>\n",
              "      <td>32395201.90</td>\n",
              "      <td>83</td>\n",
              "    </tr>\n",
              "    <tr>\n",
              "      <th>UNIÃO</th>\n",
              "      <td>27900341.64</td>\n",
              "      <td>91</td>\n",
              "    </tr>\n",
              "    <tr>\n",
              "      <th>PP</th>\n",
              "      <td>23582211.06</td>\n",
              "      <td>85</td>\n",
              "    </tr>\n",
              "    <tr>\n",
              "      <th>PSD</th>\n",
              "      <td>20019702.47</td>\n",
              "      <td>72</td>\n",
              "    </tr>\n",
              "    <tr>\n",
              "      <th>REPUBLICANOS</th>\n",
              "      <td>19882083.15</td>\n",
              "      <td>68</td>\n",
              "    </tr>\n",
              "    <tr>\n",
              "      <th>MDB</th>\n",
              "      <td>19554354.31</td>\n",
              "      <td>64</td>\n",
              "    </tr>\n",
              "    <tr>\n",
              "      <th>PDT</th>\n",
              "      <td>8925283.83</td>\n",
              "      <td>28</td>\n",
              "    </tr>\n",
              "    <tr>\n",
              "      <th>PSB</th>\n",
              "      <td>7023162.32</td>\n",
              "      <td>33</td>\n",
              "    </tr>\n",
              "    <tr>\n",
              "      <th>PSDB</th>\n",
              "      <td>6782507.60</td>\n",
              "      <td>29</td>\n",
              "    </tr>\n",
              "    <tr>\n",
              "      <th>PODE</th>\n",
              "      <td>6668313.47</td>\n",
              "      <td>24</td>\n",
              "    </tr>\n",
              "    <tr>\n",
              "      <th>PSOL</th>\n",
              "      <td>5158638.20</td>\n",
              "      <td>15</td>\n",
              "    </tr>\n",
              "    <tr>\n",
              "      <th>PCdoB</th>\n",
              "      <td>3487655.43</td>\n",
              "      <td>10</td>\n",
              "    </tr>\n",
              "    <tr>\n",
              "      <th>PV</th>\n",
              "      <td>2784921.21</td>\n",
              "      <td>9</td>\n",
              "    </tr>\n",
              "    <tr>\n",
              "      <th>AVANTE</th>\n",
              "      <td>2560685.85</td>\n",
              "      <td>9</td>\n",
              "    </tr>\n",
              "    <tr>\n",
              "      <th>PATRIOTA</th>\n",
              "      <td>2219490.70</td>\n",
              "      <td>8</td>\n",
              "    </tr>\n",
              "    <tr>\n",
              "      <th>SOLIDARIEDADE</th>\n",
              "      <td>1853546.91</td>\n",
              "      <td>12</td>\n",
              "    </tr>\n",
              "    <tr>\n",
              "      <th>CIDADANIA</th>\n",
              "      <td>826381.54</td>\n",
              "      <td>6</td>\n",
              "    </tr>\n",
              "    <tr>\n",
              "      <th>NOVO</th>\n",
              "      <td>500747.93</td>\n",
              "      <td>8</td>\n",
              "    </tr>\n",
              "    <tr>\n",
              "      <th>REDE</th>\n",
              "      <td>427758.18</td>\n",
              "      <td>3</td>\n",
              "    </tr>\n",
              "    <tr>\n",
              "      <th>PSC</th>\n",
              "      <td>265985.66</td>\n",
              "      <td>8</td>\n",
              "    </tr>\n",
              "    <tr>\n",
              "      <th>PTB</th>\n",
              "      <td>132036.43</td>\n",
              "      <td>4</td>\n",
              "    </tr>\n",
              "    <tr>\n",
              "      <th>PROS</th>\n",
              "      <td>98252.17</td>\n",
              "      <td>4</td>\n",
              "    </tr>\n",
              "  </tbody>\n",
              "</table>\n",
              "</div>"
            ],
            "text/plain": [
              "                vlrLiquido  txNomeParlamentar\n",
              "sgPartido                                    \n",
              "PL             41250558.39                122\n",
              "PT             32395201.90                 83\n",
              "UNIÃO          27900341.64                 91\n",
              "PP             23582211.06                 85\n",
              "PSD            20019702.47                 72\n",
              "REPUBLICANOS   19882083.15                 68\n",
              "MDB            19554354.31                 64\n",
              "PDT             8925283.83                 28\n",
              "PSB             7023162.32                 33\n",
              "PSDB            6782507.60                 29\n",
              "PODE            6668313.47                 24\n",
              "PSOL            5158638.20                 15\n",
              "PCdoB           3487655.43                 10\n",
              "PV              2784921.21                  9\n",
              "AVANTE          2560685.85                  9\n",
              "PATRIOTA        2219490.70                  8\n",
              "SOLIDARIEDADE   1853546.91                 12\n",
              "CIDADANIA        826381.54                  6\n",
              "NOVO             500747.93                  8\n",
              "REDE             427758.18                  3\n",
              "PSC              265985.66                  8\n",
              "PTB              132036.43                  4\n",
              "PROS              98252.17                  4"
            ]
          },
          "execution_count": 247,
          "metadata": {},
          "output_type": "execute_result"
        }
      ],
      "source": [
        "holistic_view_df\n"
      ]
    },
    {
      "cell_type": "code",
      "execution_count": null,
      "metadata": {
        "id": "ktI37Zr2sNEh"
      },
      "outputs": [],
      "source": [
        "#rename holistic_view_df columns to 'total_gasto' and 'n_politicos'\n",
        "\n",
        "holistic_view_df.columns = ['gasto_total_milhoes', 'quantidade_politicos']"
      ]
    },
    {
      "cell_type": "code",
      "execution_count": null,
      "metadata": {
        "id": "7yZcq2j6sNEh",
        "outputId": "ae9e63ed-9ef6-406e-9c13-46823b3bd861"
      },
      "outputs": [
        {
          "data": {
            "text/html": [
              "<div>\n",
              "<style scoped>\n",
              "    .dataframe tbody tr th:only-of-type {\n",
              "        vertical-align: middle;\n",
              "    }\n",
              "\n",
              "    .dataframe tbody tr th {\n",
              "        vertical-align: top;\n",
              "    }\n",
              "\n",
              "    .dataframe thead th {\n",
              "        text-align: right;\n",
              "    }\n",
              "</style>\n",
              "<table border=\"1\" class=\"dataframe\">\n",
              "  <thead>\n",
              "    <tr style=\"text-align: right;\">\n",
              "      <th></th>\n",
              "      <th>gasto_total_milhoes</th>\n",
              "      <th>quantidade_politicos</th>\n",
              "    </tr>\n",
              "    <tr>\n",
              "      <th>sgPartido</th>\n",
              "      <th></th>\n",
              "      <th></th>\n",
              "    </tr>\n",
              "  </thead>\n",
              "  <tbody>\n",
              "    <tr>\n",
              "      <th>PL</th>\n",
              "      <td>41250558.39</td>\n",
              "      <td>122</td>\n",
              "    </tr>\n",
              "    <tr>\n",
              "      <th>PT</th>\n",
              "      <td>32395201.90</td>\n",
              "      <td>83</td>\n",
              "    </tr>\n",
              "    <tr>\n",
              "      <th>UNIÃO</th>\n",
              "      <td>27900341.64</td>\n",
              "      <td>91</td>\n",
              "    </tr>\n",
              "    <tr>\n",
              "      <th>PP</th>\n",
              "      <td>23582211.06</td>\n",
              "      <td>85</td>\n",
              "    </tr>\n",
              "    <tr>\n",
              "      <th>PSD</th>\n",
              "      <td>20019702.47</td>\n",
              "      <td>72</td>\n",
              "    </tr>\n",
              "    <tr>\n",
              "      <th>REPUBLICANOS</th>\n",
              "      <td>19882083.15</td>\n",
              "      <td>68</td>\n",
              "    </tr>\n",
              "    <tr>\n",
              "      <th>MDB</th>\n",
              "      <td>19554354.31</td>\n",
              "      <td>64</td>\n",
              "    </tr>\n",
              "    <tr>\n",
              "      <th>PDT</th>\n",
              "      <td>8925283.83</td>\n",
              "      <td>28</td>\n",
              "    </tr>\n",
              "    <tr>\n",
              "      <th>PSB</th>\n",
              "      <td>7023162.32</td>\n",
              "      <td>33</td>\n",
              "    </tr>\n",
              "    <tr>\n",
              "      <th>PSDB</th>\n",
              "      <td>6782507.60</td>\n",
              "      <td>29</td>\n",
              "    </tr>\n",
              "    <tr>\n",
              "      <th>PODE</th>\n",
              "      <td>6668313.47</td>\n",
              "      <td>24</td>\n",
              "    </tr>\n",
              "    <tr>\n",
              "      <th>PSOL</th>\n",
              "      <td>5158638.20</td>\n",
              "      <td>15</td>\n",
              "    </tr>\n",
              "    <tr>\n",
              "      <th>PCdoB</th>\n",
              "      <td>3487655.43</td>\n",
              "      <td>10</td>\n",
              "    </tr>\n",
              "    <tr>\n",
              "      <th>PV</th>\n",
              "      <td>2784921.21</td>\n",
              "      <td>9</td>\n",
              "    </tr>\n",
              "    <tr>\n",
              "      <th>AVANTE</th>\n",
              "      <td>2560685.85</td>\n",
              "      <td>9</td>\n",
              "    </tr>\n",
              "    <tr>\n",
              "      <th>PATRIOTA</th>\n",
              "      <td>2219490.70</td>\n",
              "      <td>8</td>\n",
              "    </tr>\n",
              "    <tr>\n",
              "      <th>SOLIDARIEDADE</th>\n",
              "      <td>1853546.91</td>\n",
              "      <td>12</td>\n",
              "    </tr>\n",
              "    <tr>\n",
              "      <th>CIDADANIA</th>\n",
              "      <td>826381.54</td>\n",
              "      <td>6</td>\n",
              "    </tr>\n",
              "    <tr>\n",
              "      <th>NOVO</th>\n",
              "      <td>500747.93</td>\n",
              "      <td>8</td>\n",
              "    </tr>\n",
              "    <tr>\n",
              "      <th>REDE</th>\n",
              "      <td>427758.18</td>\n",
              "      <td>3</td>\n",
              "    </tr>\n",
              "    <tr>\n",
              "      <th>PSC</th>\n",
              "      <td>265985.66</td>\n",
              "      <td>8</td>\n",
              "    </tr>\n",
              "    <tr>\n",
              "      <th>PTB</th>\n",
              "      <td>132036.43</td>\n",
              "      <td>4</td>\n",
              "    </tr>\n",
              "    <tr>\n",
              "      <th>PROS</th>\n",
              "      <td>98252.17</td>\n",
              "      <td>4</td>\n",
              "    </tr>\n",
              "  </tbody>\n",
              "</table>\n",
              "</div>"
            ],
            "text/plain": [
              "               gasto_total_milhoes  quantidade_politicos\n",
              "sgPartido                                               \n",
              "PL                     41250558.39                   122\n",
              "PT                     32395201.90                    83\n",
              "UNIÃO                  27900341.64                    91\n",
              "PP                     23582211.06                    85\n",
              "PSD                    20019702.47                    72\n",
              "REPUBLICANOS           19882083.15                    68\n",
              "MDB                    19554354.31                    64\n",
              "PDT                     8925283.83                    28\n",
              "PSB                     7023162.32                    33\n",
              "PSDB                    6782507.60                    29\n",
              "PODE                    6668313.47                    24\n",
              "PSOL                    5158638.20                    15\n",
              "PCdoB                   3487655.43                    10\n",
              "PV                      2784921.21                     9\n",
              "AVANTE                  2560685.85                     9\n",
              "PATRIOTA                2219490.70                     8\n",
              "SOLIDARIEDADE           1853546.91                    12\n",
              "CIDADANIA                826381.54                     6\n",
              "NOVO                     500747.93                     8\n",
              "REDE                     427758.18                     3\n",
              "PSC                      265985.66                     8\n",
              "PTB                      132036.43                     4\n",
              "PROS                      98252.17                     4"
            ]
          },
          "execution_count": 249,
          "metadata": {},
          "output_type": "execute_result"
        }
      ],
      "source": [
        "holistic_view_df\n"
      ]
    },
    {
      "cell_type": "code",
      "execution_count": null,
      "metadata": {
        "id": "7IRv-hLdsNEi",
        "outputId": "1cc07d23-4b61-4128-c704-240223ac0f57"
      },
      "outputs": [
        {
          "data": {
            "application/vnd.plotly.v1+json": {
              "config": {
                "plotlyServerURL": "https://plot.ly"
              },
              "data": [
                {
                  "alignmentgroup": "True",
                  "hovertemplate": "variable=gasto_total_milhoes<br>sgPartido=%{x}<br>value=%{y}<br>quantidade_politicos=%{text}<extra></extra>",
                  "legendgroup": "gasto_total_milhoes",
                  "marker": {
                    "color": "#636efa",
                    "pattern": {
                      "shape": ""
                    }
                  },
                  "name": "gasto_total_milhoes",
                  "offsetgroup": "gasto_total_milhoes",
                  "orientation": "v",
                  "showlegend": true,
                  "text": [
                    122,
                    83,
                    91,
                    85,
                    72,
                    68,
                    64,
                    28,
                    33,
                    29,
                    24,
                    15,
                    10,
                    9,
                    9,
                    8,
                    12,
                    6,
                    8,
                    3,
                    8,
                    4,
                    4
                  ],
                  "textposition": "auto",
                  "type": "bar",
                  "x": [
                    "PL",
                    "PT",
                    "UNIÃO",
                    "PP",
                    "PSD",
                    "REPUBLICANOS",
                    "MDB",
                    "PDT",
                    "PSB",
                    "PSDB",
                    "PODE",
                    "PSOL",
                    "PCdoB",
                    "PV",
                    "AVANTE",
                    "PATRIOTA",
                    "SOLIDARIEDADE",
                    "CIDADANIA",
                    "NOVO",
                    "REDE",
                    "PSC",
                    "PTB",
                    "PROS"
                  ],
                  "xaxis": "x",
                  "y": [
                    41250558.39,
                    32395201.9,
                    27900341.64,
                    23582211.06,
                    20019702.47,
                    19882083.15,
                    19554354.31,
                    8925283.83,
                    7023162.32,
                    6782507.6,
                    6668313.47,
                    5158638.2,
                    3487655.43,
                    2784921.21,
                    2560685.85,
                    2219490.7,
                    1853546.91,
                    826381.54,
                    500747.93,
                    427758.18,
                    265985.66,
                    132036.43,
                    98252.17
                  ],
                  "yaxis": "y"
                }
              ],
              "layout": {
                "barmode": "relative",
                "legend": {
                  "title": {
                    "text": "variable"
                  },
                  "tracegroupgap": 0
                },
                "template": {
                  "data": {
                    "bar": [
                      {
                        "error_x": {
                          "color": "#2a3f5f"
                        },
                        "error_y": {
                          "color": "#2a3f5f"
                        },
                        "marker": {
                          "line": {
                            "color": "#E5ECF6",
                            "width": 0.5
                          },
                          "pattern": {
                            "fillmode": "overlay",
                            "size": 10,
                            "solidity": 0.2
                          }
                        },
                        "type": "bar"
                      }
                    ],
                    "barpolar": [
                      {
                        "marker": {
                          "line": {
                            "color": "#E5ECF6",
                            "width": 0.5
                          },
                          "pattern": {
                            "fillmode": "overlay",
                            "size": 10,
                            "solidity": 0.2
                          }
                        },
                        "type": "barpolar"
                      }
                    ],
                    "carpet": [
                      {
                        "aaxis": {
                          "endlinecolor": "#2a3f5f",
                          "gridcolor": "white",
                          "linecolor": "white",
                          "minorgridcolor": "white",
                          "startlinecolor": "#2a3f5f"
                        },
                        "baxis": {
                          "endlinecolor": "#2a3f5f",
                          "gridcolor": "white",
                          "linecolor": "white",
                          "minorgridcolor": "white",
                          "startlinecolor": "#2a3f5f"
                        },
                        "type": "carpet"
                      }
                    ],
                    "choropleth": [
                      {
                        "colorbar": {
                          "outlinewidth": 0,
                          "ticks": ""
                        },
                        "type": "choropleth"
                      }
                    ],
                    "contour": [
                      {
                        "colorbar": {
                          "outlinewidth": 0,
                          "ticks": ""
                        },
                        "colorscale": [
                          [
                            0,
                            "#0d0887"
                          ],
                          [
                            0.1111111111111111,
                            "#46039f"
                          ],
                          [
                            0.2222222222222222,
                            "#7201a8"
                          ],
                          [
                            0.3333333333333333,
                            "#9c179e"
                          ],
                          [
                            0.4444444444444444,
                            "#bd3786"
                          ],
                          [
                            0.5555555555555556,
                            "#d8576b"
                          ],
                          [
                            0.6666666666666666,
                            "#ed7953"
                          ],
                          [
                            0.7777777777777778,
                            "#fb9f3a"
                          ],
                          [
                            0.8888888888888888,
                            "#fdca26"
                          ],
                          [
                            1,
                            "#f0f921"
                          ]
                        ],
                        "type": "contour"
                      }
                    ],
                    "contourcarpet": [
                      {
                        "colorbar": {
                          "outlinewidth": 0,
                          "ticks": ""
                        },
                        "type": "contourcarpet"
                      }
                    ],
                    "heatmap": [
                      {
                        "colorbar": {
                          "outlinewidth": 0,
                          "ticks": ""
                        },
                        "colorscale": [
                          [
                            0,
                            "#0d0887"
                          ],
                          [
                            0.1111111111111111,
                            "#46039f"
                          ],
                          [
                            0.2222222222222222,
                            "#7201a8"
                          ],
                          [
                            0.3333333333333333,
                            "#9c179e"
                          ],
                          [
                            0.4444444444444444,
                            "#bd3786"
                          ],
                          [
                            0.5555555555555556,
                            "#d8576b"
                          ],
                          [
                            0.6666666666666666,
                            "#ed7953"
                          ],
                          [
                            0.7777777777777778,
                            "#fb9f3a"
                          ],
                          [
                            0.8888888888888888,
                            "#fdca26"
                          ],
                          [
                            1,
                            "#f0f921"
                          ]
                        ],
                        "type": "heatmap"
                      }
                    ],
                    "heatmapgl": [
                      {
                        "colorbar": {
                          "outlinewidth": 0,
                          "ticks": ""
                        },
                        "colorscale": [
                          [
                            0,
                            "#0d0887"
                          ],
                          [
                            0.1111111111111111,
                            "#46039f"
                          ],
                          [
                            0.2222222222222222,
                            "#7201a8"
                          ],
                          [
                            0.3333333333333333,
                            "#9c179e"
                          ],
                          [
                            0.4444444444444444,
                            "#bd3786"
                          ],
                          [
                            0.5555555555555556,
                            "#d8576b"
                          ],
                          [
                            0.6666666666666666,
                            "#ed7953"
                          ],
                          [
                            0.7777777777777778,
                            "#fb9f3a"
                          ],
                          [
                            0.8888888888888888,
                            "#fdca26"
                          ],
                          [
                            1,
                            "#f0f921"
                          ]
                        ],
                        "type": "heatmapgl"
                      }
                    ],
                    "histogram": [
                      {
                        "marker": {
                          "pattern": {
                            "fillmode": "overlay",
                            "size": 10,
                            "solidity": 0.2
                          }
                        },
                        "type": "histogram"
                      }
                    ],
                    "histogram2d": [
                      {
                        "colorbar": {
                          "outlinewidth": 0,
                          "ticks": ""
                        },
                        "colorscale": [
                          [
                            0,
                            "#0d0887"
                          ],
                          [
                            0.1111111111111111,
                            "#46039f"
                          ],
                          [
                            0.2222222222222222,
                            "#7201a8"
                          ],
                          [
                            0.3333333333333333,
                            "#9c179e"
                          ],
                          [
                            0.4444444444444444,
                            "#bd3786"
                          ],
                          [
                            0.5555555555555556,
                            "#d8576b"
                          ],
                          [
                            0.6666666666666666,
                            "#ed7953"
                          ],
                          [
                            0.7777777777777778,
                            "#fb9f3a"
                          ],
                          [
                            0.8888888888888888,
                            "#fdca26"
                          ],
                          [
                            1,
                            "#f0f921"
                          ]
                        ],
                        "type": "histogram2d"
                      }
                    ],
                    "histogram2dcontour": [
                      {
                        "colorbar": {
                          "outlinewidth": 0,
                          "ticks": ""
                        },
                        "colorscale": [
                          [
                            0,
                            "#0d0887"
                          ],
                          [
                            0.1111111111111111,
                            "#46039f"
                          ],
                          [
                            0.2222222222222222,
                            "#7201a8"
                          ],
                          [
                            0.3333333333333333,
                            "#9c179e"
                          ],
                          [
                            0.4444444444444444,
                            "#bd3786"
                          ],
                          [
                            0.5555555555555556,
                            "#d8576b"
                          ],
                          [
                            0.6666666666666666,
                            "#ed7953"
                          ],
                          [
                            0.7777777777777778,
                            "#fb9f3a"
                          ],
                          [
                            0.8888888888888888,
                            "#fdca26"
                          ],
                          [
                            1,
                            "#f0f921"
                          ]
                        ],
                        "type": "histogram2dcontour"
                      }
                    ],
                    "mesh3d": [
                      {
                        "colorbar": {
                          "outlinewidth": 0,
                          "ticks": ""
                        },
                        "type": "mesh3d"
                      }
                    ],
                    "parcoords": [
                      {
                        "line": {
                          "colorbar": {
                            "outlinewidth": 0,
                            "ticks": ""
                          }
                        },
                        "type": "parcoords"
                      }
                    ],
                    "pie": [
                      {
                        "automargin": true,
                        "type": "pie"
                      }
                    ],
                    "scatter": [
                      {
                        "fillpattern": {
                          "fillmode": "overlay",
                          "size": 10,
                          "solidity": 0.2
                        },
                        "type": "scatter"
                      }
                    ],
                    "scatter3d": [
                      {
                        "line": {
                          "colorbar": {
                            "outlinewidth": 0,
                            "ticks": ""
                          }
                        },
                        "marker": {
                          "colorbar": {
                            "outlinewidth": 0,
                            "ticks": ""
                          }
                        },
                        "type": "scatter3d"
                      }
                    ],
                    "scattercarpet": [
                      {
                        "marker": {
                          "colorbar": {
                            "outlinewidth": 0,
                            "ticks": ""
                          }
                        },
                        "type": "scattercarpet"
                      }
                    ],
                    "scattergeo": [
                      {
                        "marker": {
                          "colorbar": {
                            "outlinewidth": 0,
                            "ticks": ""
                          }
                        },
                        "type": "scattergeo"
                      }
                    ],
                    "scattergl": [
                      {
                        "marker": {
                          "colorbar": {
                            "outlinewidth": 0,
                            "ticks": ""
                          }
                        },
                        "type": "scattergl"
                      }
                    ],
                    "scattermapbox": [
                      {
                        "marker": {
                          "colorbar": {
                            "outlinewidth": 0,
                            "ticks": ""
                          }
                        },
                        "type": "scattermapbox"
                      }
                    ],
                    "scatterpolar": [
                      {
                        "marker": {
                          "colorbar": {
                            "outlinewidth": 0,
                            "ticks": ""
                          }
                        },
                        "type": "scatterpolar"
                      }
                    ],
                    "scatterpolargl": [
                      {
                        "marker": {
                          "colorbar": {
                            "outlinewidth": 0,
                            "ticks": ""
                          }
                        },
                        "type": "scatterpolargl"
                      }
                    ],
                    "scatterternary": [
                      {
                        "marker": {
                          "colorbar": {
                            "outlinewidth": 0,
                            "ticks": ""
                          }
                        },
                        "type": "scatterternary"
                      }
                    ],
                    "surface": [
                      {
                        "colorbar": {
                          "outlinewidth": 0,
                          "ticks": ""
                        },
                        "colorscale": [
                          [
                            0,
                            "#0d0887"
                          ],
                          [
                            0.1111111111111111,
                            "#46039f"
                          ],
                          [
                            0.2222222222222222,
                            "#7201a8"
                          ],
                          [
                            0.3333333333333333,
                            "#9c179e"
                          ],
                          [
                            0.4444444444444444,
                            "#bd3786"
                          ],
                          [
                            0.5555555555555556,
                            "#d8576b"
                          ],
                          [
                            0.6666666666666666,
                            "#ed7953"
                          ],
                          [
                            0.7777777777777778,
                            "#fb9f3a"
                          ],
                          [
                            0.8888888888888888,
                            "#fdca26"
                          ],
                          [
                            1,
                            "#f0f921"
                          ]
                        ],
                        "type": "surface"
                      }
                    ],
                    "table": [
                      {
                        "cells": {
                          "fill": {
                            "color": "#EBF0F8"
                          },
                          "line": {
                            "color": "white"
                          }
                        },
                        "header": {
                          "fill": {
                            "color": "#C8D4E3"
                          },
                          "line": {
                            "color": "white"
                          }
                        },
                        "type": "table"
                      }
                    ]
                  },
                  "layout": {
                    "annotationdefaults": {
                      "arrowcolor": "#2a3f5f",
                      "arrowhead": 0,
                      "arrowwidth": 1
                    },
                    "autotypenumbers": "strict",
                    "coloraxis": {
                      "colorbar": {
                        "outlinewidth": 0,
                        "ticks": ""
                      }
                    },
                    "colorscale": {
                      "diverging": [
                        [
                          0,
                          "#8e0152"
                        ],
                        [
                          0.1,
                          "#c51b7d"
                        ],
                        [
                          0.2,
                          "#de77ae"
                        ],
                        [
                          0.3,
                          "#f1b6da"
                        ],
                        [
                          0.4,
                          "#fde0ef"
                        ],
                        [
                          0.5,
                          "#f7f7f7"
                        ],
                        [
                          0.6,
                          "#e6f5d0"
                        ],
                        [
                          0.7,
                          "#b8e186"
                        ],
                        [
                          0.8,
                          "#7fbc41"
                        ],
                        [
                          0.9,
                          "#4d9221"
                        ],
                        [
                          1,
                          "#276419"
                        ]
                      ],
                      "sequential": [
                        [
                          0,
                          "#0d0887"
                        ],
                        [
                          0.1111111111111111,
                          "#46039f"
                        ],
                        [
                          0.2222222222222222,
                          "#7201a8"
                        ],
                        [
                          0.3333333333333333,
                          "#9c179e"
                        ],
                        [
                          0.4444444444444444,
                          "#bd3786"
                        ],
                        [
                          0.5555555555555556,
                          "#d8576b"
                        ],
                        [
                          0.6666666666666666,
                          "#ed7953"
                        ],
                        [
                          0.7777777777777778,
                          "#fb9f3a"
                        ],
                        [
                          0.8888888888888888,
                          "#fdca26"
                        ],
                        [
                          1,
                          "#f0f921"
                        ]
                      ],
                      "sequentialminus": [
                        [
                          0,
                          "#0d0887"
                        ],
                        [
                          0.1111111111111111,
                          "#46039f"
                        ],
                        [
                          0.2222222222222222,
                          "#7201a8"
                        ],
                        [
                          0.3333333333333333,
                          "#9c179e"
                        ],
                        [
                          0.4444444444444444,
                          "#bd3786"
                        ],
                        [
                          0.5555555555555556,
                          "#d8576b"
                        ],
                        [
                          0.6666666666666666,
                          "#ed7953"
                        ],
                        [
                          0.7777777777777778,
                          "#fb9f3a"
                        ],
                        [
                          0.8888888888888888,
                          "#fdca26"
                        ],
                        [
                          1,
                          "#f0f921"
                        ]
                      ]
                    },
                    "colorway": [
                      "#636efa",
                      "#EF553B",
                      "#00cc96",
                      "#ab63fa",
                      "#FFA15A",
                      "#19d3f3",
                      "#FF6692",
                      "#B6E880",
                      "#FF97FF",
                      "#FECB52"
                    ],
                    "font": {
                      "color": "#2a3f5f"
                    },
                    "geo": {
                      "bgcolor": "white",
                      "lakecolor": "white",
                      "landcolor": "#E5ECF6",
                      "showlakes": true,
                      "showland": true,
                      "subunitcolor": "white"
                    },
                    "hoverlabel": {
                      "align": "left"
                    },
                    "hovermode": "closest",
                    "mapbox": {
                      "style": "light"
                    },
                    "paper_bgcolor": "white",
                    "plot_bgcolor": "#E5ECF6",
                    "polar": {
                      "angularaxis": {
                        "gridcolor": "white",
                        "linecolor": "white",
                        "ticks": ""
                      },
                      "bgcolor": "#E5ECF6",
                      "radialaxis": {
                        "gridcolor": "white",
                        "linecolor": "white",
                        "ticks": ""
                      }
                    },
                    "scene": {
                      "xaxis": {
                        "backgroundcolor": "#E5ECF6",
                        "gridcolor": "white",
                        "gridwidth": 2,
                        "linecolor": "white",
                        "showbackground": true,
                        "ticks": "",
                        "zerolinecolor": "white"
                      },
                      "yaxis": {
                        "backgroundcolor": "#E5ECF6",
                        "gridcolor": "white",
                        "gridwidth": 2,
                        "linecolor": "white",
                        "showbackground": true,
                        "ticks": "",
                        "zerolinecolor": "white"
                      },
                      "zaxis": {
                        "backgroundcolor": "#E5ECF6",
                        "gridcolor": "white",
                        "gridwidth": 2,
                        "linecolor": "white",
                        "showbackground": true,
                        "ticks": "",
                        "zerolinecolor": "white"
                      }
                    },
                    "shapedefaults": {
                      "line": {
                        "color": "#2a3f5f"
                      }
                    },
                    "ternary": {
                      "aaxis": {
                        "gridcolor": "white",
                        "linecolor": "white",
                        "ticks": ""
                      },
                      "baxis": {
                        "gridcolor": "white",
                        "linecolor": "white",
                        "ticks": ""
                      },
                      "bgcolor": "#E5ECF6",
                      "caxis": {
                        "gridcolor": "white",
                        "linecolor": "white",
                        "ticks": ""
                      }
                    },
                    "title": {
                      "x": 0.05
                    },
                    "xaxis": {
                      "automargin": true,
                      "gridcolor": "white",
                      "linecolor": "white",
                      "ticks": "",
                      "title": {
                        "standoff": 15
                      },
                      "zerolinecolor": "white",
                      "zerolinewidth": 2
                    },
                    "yaxis": {
                      "automargin": true,
                      "gridcolor": "white",
                      "linecolor": "white",
                      "ticks": "",
                      "title": {
                        "standoff": 15
                      },
                      "zerolinecolor": "white",
                      "zerolinewidth": 2
                    }
                  }
                },
                "title": {
                  "text": "Total de gastos por partido em Milhoes de Reais em 2023"
                },
                "xaxis": {
                  "anchor": "y",
                  "domain": [
                    0,
                    1
                  ],
                  "title": {
                    "text": "sgPartido"
                  }
                },
                "yaxis": {
                  "anchor": "x",
                  "domain": [
                    0,
                    1
                  ],
                  "title": {
                    "text": "value"
                  }
                }
              }
            }
          },
          "metadata": {},
          "output_type": "display_data"
        }
      ],
      "source": [
        "#plot a stacked bar chart with the data from holistic_view_df and column quantidades_deputados in the bars\n",
        "\n",
        "fig = px.bar(holistic_view_df, x=holistic_view_df.index, y=['gasto_total_milhoes', 'quantidade_politicos'], title='Total de gastos por partido em Milhoes de Reais em 2023', text='quantidade_politicos')\n",
        "\n",
        "fig.show()\n"
      ]
    },
    {
      "cell_type": "code",
      "execution_count": null,
      "metadata": {
        "id": "EJEkwtSnsNEi",
        "outputId": "a9e5111b-266b-4b51-b798-cb7d3b7810e7"
      },
      "outputs": [
        {
          "data": {
            "text/plain": [
              "795"
            ]
          },
          "execution_count": 251,
          "metadata": {},
          "output_type": "execute_result"
        }
      ],
      "source": [
        "holistic_view_df['quantidade_politicos'].sum()"
      ]
    },
    {
      "cell_type": "code",
      "execution_count": null,
      "metadata": {
        "id": "qlncny2KsNEi"
      },
      "outputs": [],
      "source": []
    }
  ],
  "metadata": {
    "kernelspec": {
      "display_name": "Python 3",
      "language": "python",
      "name": "python3"
    },
    "language_info": {
      "codemirror_mode": {
        "name": "ipython",
        "version": 3
      },
      "file_extension": ".py",
      "mimetype": "text/x-python",
      "name": "python",
      "nbconvert_exporter": "python",
      "pygments_lexer": "ipython3",
      "version": "3.11.6"
    },
    "colab": {
      "provenance": [],
      "include_colab_link": true
    }
  },
  "nbformat": 4,
  "nbformat_minor": 0
}